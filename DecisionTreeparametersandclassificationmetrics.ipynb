{
 "cells": [
  {
   "cell_type": "markdown",
   "metadata": {},
   "source": [
    "# Decision Tree parameters and classification metrics.\n",
    "\n",
    "The main objective is to understand the parameters of the Decision Tree model and how to evaluate the model based on the different metrics.\n"
   ]
  },
  {
   "cell_type": "markdown",
   "metadata": {},
   "source": [
    "# Instructions\n",
    "\n",
    "1- Using nested loops and with a split ratio of 20 testing:80 training, try to find the best combined parameters that provide the best accuracy for the testing dataset from:\n",
    "- max_depth values between 3 and 4 with a step of 1, so possible values are [3,4].\n",
    "- max_leaf_nodes values between 10 and 15 with a step of 5, so possible values are [10,15].\n",
    "- min_samples_leaf with values between 10 and 20 with a step of 5, so possible values are [10,15,20].\n",
    "\n",
    "Plot your results for the testing and training accuracies for each step.\n",
    "\n",
    "Note: you should end up with 12 plots for the above parameter possible valules."
   ]
  },
  {
   "cell_type": "markdown",
   "metadata": {},
   "source": [
    "<font color=\"red\"><b>The first task here is to import the dataset and save it to a dataframe using pandas.</font> For this we will be importing the standard packages that will allow us to use <b>pandas</b>, <b>numpy arrays</b>, and <b>plot</b> the graph. \n",
    "\n",
    "Now, we are storing the dataset file into a dataframe named adult, which we will be using for future referencing purpose.\n",
    "\n",
    "To achieve this we are using the <b> pd.read_csv</b> function to capture the csv dataset file and store it in a dataframe.\n",
    "\n",
    "After importing, we have displayed the dataframe using it's name and based on this we can see that, the dataframe has <b>32561 rows</b> and <b> 15 columns</b>."
   ]
  },
  {
   "cell_type": "code",
   "execution_count": 1,
   "metadata": {},
   "outputs": [
    {
     "data": {
      "text/html": [
       "<div>\n",
       "<style scoped>\n",
       "    .dataframe tbody tr th:only-of-type {\n",
       "        vertical-align: middle;\n",
       "    }\n",
       "\n",
       "    .dataframe tbody tr th {\n",
       "        vertical-align: top;\n",
       "    }\n",
       "\n",
       "    .dataframe thead th {\n",
       "        text-align: right;\n",
       "    }\n",
       "</style>\n",
       "<table border=\"1\" class=\"dataframe\">\n",
       "  <thead>\n",
       "    <tr style=\"text-align: right;\">\n",
       "      <th></th>\n",
       "      <th>age</th>\n",
       "      <th>workclass</th>\n",
       "      <th>fnlwgt</th>\n",
       "      <th>education</th>\n",
       "      <th>education_num</th>\n",
       "      <th>marital_status</th>\n",
       "      <th>occupation</th>\n",
       "      <th>relationship</th>\n",
       "      <th>race</th>\n",
       "      <th>sex</th>\n",
       "      <th>capital_gain</th>\n",
       "      <th>capital_loss</th>\n",
       "      <th>hours_per_week</th>\n",
       "      <th>native_country</th>\n",
       "      <th>salary</th>\n",
       "    </tr>\n",
       "  </thead>\n",
       "  <tbody>\n",
       "    <tr>\n",
       "      <th>0</th>\n",
       "      <td>39</td>\n",
       "      <td>State-gov</td>\n",
       "      <td>77516</td>\n",
       "      <td>Bachelors</td>\n",
       "      <td>13</td>\n",
       "      <td>Never-married</td>\n",
       "      <td>Adm-clerical</td>\n",
       "      <td>Not-in-family</td>\n",
       "      <td>White</td>\n",
       "      <td>Male</td>\n",
       "      <td>2174</td>\n",
       "      <td>0</td>\n",
       "      <td>40</td>\n",
       "      <td>United-States</td>\n",
       "      <td>0</td>\n",
       "    </tr>\n",
       "    <tr>\n",
       "      <th>1</th>\n",
       "      <td>50</td>\n",
       "      <td>Self-emp-not-inc</td>\n",
       "      <td>83311</td>\n",
       "      <td>Bachelors</td>\n",
       "      <td>13</td>\n",
       "      <td>Married-civ-spouse</td>\n",
       "      <td>Exec-managerial</td>\n",
       "      <td>Husband</td>\n",
       "      <td>White</td>\n",
       "      <td>Male</td>\n",
       "      <td>0</td>\n",
       "      <td>0</td>\n",
       "      <td>13</td>\n",
       "      <td>United-States</td>\n",
       "      <td>0</td>\n",
       "    </tr>\n",
       "    <tr>\n",
       "      <th>2</th>\n",
       "      <td>38</td>\n",
       "      <td>Private</td>\n",
       "      <td>215646</td>\n",
       "      <td>HS-grad</td>\n",
       "      <td>9</td>\n",
       "      <td>Divorced</td>\n",
       "      <td>Handlers-cleaners</td>\n",
       "      <td>Not-in-family</td>\n",
       "      <td>White</td>\n",
       "      <td>Male</td>\n",
       "      <td>0</td>\n",
       "      <td>0</td>\n",
       "      <td>40</td>\n",
       "      <td>United-States</td>\n",
       "      <td>0</td>\n",
       "    </tr>\n",
       "    <tr>\n",
       "      <th>3</th>\n",
       "      <td>53</td>\n",
       "      <td>Private</td>\n",
       "      <td>234721</td>\n",
       "      <td>11th</td>\n",
       "      <td>7</td>\n",
       "      <td>Married-civ-spouse</td>\n",
       "      <td>Handlers-cleaners</td>\n",
       "      <td>Husband</td>\n",
       "      <td>Black</td>\n",
       "      <td>Male</td>\n",
       "      <td>0</td>\n",
       "      <td>0</td>\n",
       "      <td>40</td>\n",
       "      <td>United-States</td>\n",
       "      <td>0</td>\n",
       "    </tr>\n",
       "    <tr>\n",
       "      <th>4</th>\n",
       "      <td>28</td>\n",
       "      <td>Private</td>\n",
       "      <td>338409</td>\n",
       "      <td>Bachelors</td>\n",
       "      <td>13</td>\n",
       "      <td>Married-civ-spouse</td>\n",
       "      <td>Prof-specialty</td>\n",
       "      <td>Wife</td>\n",
       "      <td>Black</td>\n",
       "      <td>Female</td>\n",
       "      <td>0</td>\n",
       "      <td>0</td>\n",
       "      <td>40</td>\n",
       "      <td>Cuba</td>\n",
       "      <td>0</td>\n",
       "    </tr>\n",
       "    <tr>\n",
       "      <th>...</th>\n",
       "      <td>...</td>\n",
       "      <td>...</td>\n",
       "      <td>...</td>\n",
       "      <td>...</td>\n",
       "      <td>...</td>\n",
       "      <td>...</td>\n",
       "      <td>...</td>\n",
       "      <td>...</td>\n",
       "      <td>...</td>\n",
       "      <td>...</td>\n",
       "      <td>...</td>\n",
       "      <td>...</td>\n",
       "      <td>...</td>\n",
       "      <td>...</td>\n",
       "      <td>...</td>\n",
       "    </tr>\n",
       "    <tr>\n",
       "      <th>32556</th>\n",
       "      <td>27</td>\n",
       "      <td>Private</td>\n",
       "      <td>257302</td>\n",
       "      <td>Assoc-acdm</td>\n",
       "      <td>12</td>\n",
       "      <td>Married-civ-spouse</td>\n",
       "      <td>Tech-support</td>\n",
       "      <td>Wife</td>\n",
       "      <td>White</td>\n",
       "      <td>Female</td>\n",
       "      <td>0</td>\n",
       "      <td>0</td>\n",
       "      <td>38</td>\n",
       "      <td>United-States</td>\n",
       "      <td>0</td>\n",
       "    </tr>\n",
       "    <tr>\n",
       "      <th>32557</th>\n",
       "      <td>40</td>\n",
       "      <td>Private</td>\n",
       "      <td>154374</td>\n",
       "      <td>HS-grad</td>\n",
       "      <td>9</td>\n",
       "      <td>Married-civ-spouse</td>\n",
       "      <td>Machine-op-inspct</td>\n",
       "      <td>Husband</td>\n",
       "      <td>White</td>\n",
       "      <td>Male</td>\n",
       "      <td>0</td>\n",
       "      <td>0</td>\n",
       "      <td>40</td>\n",
       "      <td>United-States</td>\n",
       "      <td>1</td>\n",
       "    </tr>\n",
       "    <tr>\n",
       "      <th>32558</th>\n",
       "      <td>58</td>\n",
       "      <td>Private</td>\n",
       "      <td>151910</td>\n",
       "      <td>HS-grad</td>\n",
       "      <td>9</td>\n",
       "      <td>Widowed</td>\n",
       "      <td>Adm-clerical</td>\n",
       "      <td>Unmarried</td>\n",
       "      <td>White</td>\n",
       "      <td>Female</td>\n",
       "      <td>0</td>\n",
       "      <td>0</td>\n",
       "      <td>40</td>\n",
       "      <td>United-States</td>\n",
       "      <td>0</td>\n",
       "    </tr>\n",
       "    <tr>\n",
       "      <th>32559</th>\n",
       "      <td>22</td>\n",
       "      <td>Private</td>\n",
       "      <td>201490</td>\n",
       "      <td>HS-grad</td>\n",
       "      <td>9</td>\n",
       "      <td>Never-married</td>\n",
       "      <td>Adm-clerical</td>\n",
       "      <td>Own-child</td>\n",
       "      <td>White</td>\n",
       "      <td>Male</td>\n",
       "      <td>0</td>\n",
       "      <td>0</td>\n",
       "      <td>20</td>\n",
       "      <td>United-States</td>\n",
       "      <td>0</td>\n",
       "    </tr>\n",
       "    <tr>\n",
       "      <th>32560</th>\n",
       "      <td>52</td>\n",
       "      <td>Self-emp-inc</td>\n",
       "      <td>287927</td>\n",
       "      <td>HS-grad</td>\n",
       "      <td>9</td>\n",
       "      <td>Married-civ-spouse</td>\n",
       "      <td>Exec-managerial</td>\n",
       "      <td>Wife</td>\n",
       "      <td>White</td>\n",
       "      <td>Female</td>\n",
       "      <td>15024</td>\n",
       "      <td>0</td>\n",
       "      <td>40</td>\n",
       "      <td>United-States</td>\n",
       "      <td>1</td>\n",
       "    </tr>\n",
       "  </tbody>\n",
       "</table>\n",
       "<p>32561 rows × 15 columns</p>\n",
       "</div>"
      ],
      "text/plain": [
       "       age          workclass  fnlwgt    education  education_num  \\\n",
       "0       39          State-gov   77516    Bachelors             13   \n",
       "1       50   Self-emp-not-inc   83311    Bachelors             13   \n",
       "2       38            Private  215646      HS-grad              9   \n",
       "3       53            Private  234721         11th              7   \n",
       "4       28            Private  338409    Bachelors             13   \n",
       "...    ...                ...     ...          ...            ...   \n",
       "32556   27            Private  257302   Assoc-acdm             12   \n",
       "32557   40            Private  154374      HS-grad              9   \n",
       "32558   58            Private  151910      HS-grad              9   \n",
       "32559   22            Private  201490      HS-grad              9   \n",
       "32560   52       Self-emp-inc  287927      HS-grad              9   \n",
       "\n",
       "            marital_status          occupation    relationship    race  \\\n",
       "0            Never-married        Adm-clerical   Not-in-family   White   \n",
       "1       Married-civ-spouse     Exec-managerial         Husband   White   \n",
       "2                 Divorced   Handlers-cleaners   Not-in-family   White   \n",
       "3       Married-civ-spouse   Handlers-cleaners         Husband   Black   \n",
       "4       Married-civ-spouse      Prof-specialty            Wife   Black   \n",
       "...                    ...                 ...             ...     ...   \n",
       "32556   Married-civ-spouse        Tech-support            Wife   White   \n",
       "32557   Married-civ-spouse   Machine-op-inspct         Husband   White   \n",
       "32558              Widowed        Adm-clerical       Unmarried   White   \n",
       "32559        Never-married        Adm-clerical       Own-child   White   \n",
       "32560   Married-civ-spouse     Exec-managerial            Wife   White   \n",
       "\n",
       "           sex  capital_gain  capital_loss  hours_per_week  native_country  \\\n",
       "0         Male          2174             0              40   United-States   \n",
       "1         Male             0             0              13   United-States   \n",
       "2         Male             0             0              40   United-States   \n",
       "3         Male             0             0              40   United-States   \n",
       "4       Female             0             0              40            Cuba   \n",
       "...        ...           ...           ...             ...             ...   \n",
       "32556   Female             0             0              38   United-States   \n",
       "32557     Male             0             0              40   United-States   \n",
       "32558   Female             0             0              40   United-States   \n",
       "32559     Male             0             0              20   United-States   \n",
       "32560   Female         15024             0              40   United-States   \n",
       "\n",
       "       salary  \n",
       "0           0  \n",
       "1           0  \n",
       "2           0  \n",
       "3           0  \n",
       "4           0  \n",
       "...       ...  \n",
       "32556       0  \n",
       "32557       1  \n",
       "32558       0  \n",
       "32559       0  \n",
       "32560       1  \n",
       "\n",
       "[32561 rows x 15 columns]"
      ]
     },
     "execution_count": 1,
     "metadata": {},
     "output_type": "execute_result"
    }
   ],
   "source": [
    "import pandas as pd\n",
    "import numpy as np\n",
    "import matplotlib as nlp\n",
    "adult=pd.read_csv('adult.csv')\n",
    "adult"
   ]
  },
  {
   "cell_type": "markdown",
   "metadata": {},
   "source": [
    "<b>To avoid CPU performance issues,</b> we are truncating our dataframe to 1000 rows and having same number of columns. To acheive this we used the <b>dataframe.truncate(before =' ', after =' ')</b> function with before and after values for truncating the dataframe. Here, <b>before</b> specifies the row number which would remove all the other rows before the specified row number and <b>after</b> specifies the row number which would remove all the remaining rows after a specifed row number. \n",
    "\n",
    "After performing this operation, we are storing the truncated dataframe using a different name, in this case <b>adult1000</b>, which is the dataframe name."
   ]
  },
  {
   "cell_type": "code",
   "execution_count": 2,
   "metadata": {},
   "outputs": [
    {
     "data": {
      "text/html": [
       "<div>\n",
       "<style scoped>\n",
       "    .dataframe tbody tr th:only-of-type {\n",
       "        vertical-align: middle;\n",
       "    }\n",
       "\n",
       "    .dataframe tbody tr th {\n",
       "        vertical-align: top;\n",
       "    }\n",
       "\n",
       "    .dataframe thead th {\n",
       "        text-align: right;\n",
       "    }\n",
       "</style>\n",
       "<table border=\"1\" class=\"dataframe\">\n",
       "  <thead>\n",
       "    <tr style=\"text-align: right;\">\n",
       "      <th></th>\n",
       "      <th>age</th>\n",
       "      <th>workclass</th>\n",
       "      <th>fnlwgt</th>\n",
       "      <th>education</th>\n",
       "      <th>education_num</th>\n",
       "      <th>marital_status</th>\n",
       "      <th>occupation</th>\n",
       "      <th>relationship</th>\n",
       "      <th>race</th>\n",
       "      <th>sex</th>\n",
       "      <th>capital_gain</th>\n",
       "      <th>capital_loss</th>\n",
       "      <th>hours_per_week</th>\n",
       "      <th>native_country</th>\n",
       "      <th>salary</th>\n",
       "    </tr>\n",
       "  </thead>\n",
       "  <tbody>\n",
       "    <tr>\n",
       "      <th>0</th>\n",
       "      <td>39</td>\n",
       "      <td>State-gov</td>\n",
       "      <td>77516</td>\n",
       "      <td>Bachelors</td>\n",
       "      <td>13</td>\n",
       "      <td>Never-married</td>\n",
       "      <td>Adm-clerical</td>\n",
       "      <td>Not-in-family</td>\n",
       "      <td>White</td>\n",
       "      <td>Male</td>\n",
       "      <td>2174</td>\n",
       "      <td>0</td>\n",
       "      <td>40</td>\n",
       "      <td>United-States</td>\n",
       "      <td>0</td>\n",
       "    </tr>\n",
       "    <tr>\n",
       "      <th>1</th>\n",
       "      <td>50</td>\n",
       "      <td>Self-emp-not-inc</td>\n",
       "      <td>83311</td>\n",
       "      <td>Bachelors</td>\n",
       "      <td>13</td>\n",
       "      <td>Married-civ-spouse</td>\n",
       "      <td>Exec-managerial</td>\n",
       "      <td>Husband</td>\n",
       "      <td>White</td>\n",
       "      <td>Male</td>\n",
       "      <td>0</td>\n",
       "      <td>0</td>\n",
       "      <td>13</td>\n",
       "      <td>United-States</td>\n",
       "      <td>0</td>\n",
       "    </tr>\n",
       "    <tr>\n",
       "      <th>2</th>\n",
       "      <td>38</td>\n",
       "      <td>Private</td>\n",
       "      <td>215646</td>\n",
       "      <td>HS-grad</td>\n",
       "      <td>9</td>\n",
       "      <td>Divorced</td>\n",
       "      <td>Handlers-cleaners</td>\n",
       "      <td>Not-in-family</td>\n",
       "      <td>White</td>\n",
       "      <td>Male</td>\n",
       "      <td>0</td>\n",
       "      <td>0</td>\n",
       "      <td>40</td>\n",
       "      <td>United-States</td>\n",
       "      <td>0</td>\n",
       "    </tr>\n",
       "    <tr>\n",
       "      <th>3</th>\n",
       "      <td>53</td>\n",
       "      <td>Private</td>\n",
       "      <td>234721</td>\n",
       "      <td>11th</td>\n",
       "      <td>7</td>\n",
       "      <td>Married-civ-spouse</td>\n",
       "      <td>Handlers-cleaners</td>\n",
       "      <td>Husband</td>\n",
       "      <td>Black</td>\n",
       "      <td>Male</td>\n",
       "      <td>0</td>\n",
       "      <td>0</td>\n",
       "      <td>40</td>\n",
       "      <td>United-States</td>\n",
       "      <td>0</td>\n",
       "    </tr>\n",
       "    <tr>\n",
       "      <th>4</th>\n",
       "      <td>28</td>\n",
       "      <td>Private</td>\n",
       "      <td>338409</td>\n",
       "      <td>Bachelors</td>\n",
       "      <td>13</td>\n",
       "      <td>Married-civ-spouse</td>\n",
       "      <td>Prof-specialty</td>\n",
       "      <td>Wife</td>\n",
       "      <td>Black</td>\n",
       "      <td>Female</td>\n",
       "      <td>0</td>\n",
       "      <td>0</td>\n",
       "      <td>40</td>\n",
       "      <td>Cuba</td>\n",
       "      <td>0</td>\n",
       "    </tr>\n",
       "    <tr>\n",
       "      <th>...</th>\n",
       "      <td>...</td>\n",
       "      <td>...</td>\n",
       "      <td>...</td>\n",
       "      <td>...</td>\n",
       "      <td>...</td>\n",
       "      <td>...</td>\n",
       "      <td>...</td>\n",
       "      <td>...</td>\n",
       "      <td>...</td>\n",
       "      <td>...</td>\n",
       "      <td>...</td>\n",
       "      <td>...</td>\n",
       "      <td>...</td>\n",
       "      <td>...</td>\n",
       "      <td>...</td>\n",
       "    </tr>\n",
       "    <tr>\n",
       "      <th>995</th>\n",
       "      <td>56</td>\n",
       "      <td>Private</td>\n",
       "      <td>112840</td>\n",
       "      <td>HS-grad</td>\n",
       "      <td>9</td>\n",
       "      <td>Married-civ-spouse</td>\n",
       "      <td>Exec-managerial</td>\n",
       "      <td>Husband</td>\n",
       "      <td>White</td>\n",
       "      <td>Male</td>\n",
       "      <td>0</td>\n",
       "      <td>0</td>\n",
       "      <td>55</td>\n",
       "      <td>United-States</td>\n",
       "      <td>1</td>\n",
       "    </tr>\n",
       "    <tr>\n",
       "      <th>996</th>\n",
       "      <td>45</td>\n",
       "      <td>Private</td>\n",
       "      <td>89325</td>\n",
       "      <td>Masters</td>\n",
       "      <td>14</td>\n",
       "      <td>Divorced</td>\n",
       "      <td>Prof-specialty</td>\n",
       "      <td>Not-in-family</td>\n",
       "      <td>White</td>\n",
       "      <td>Male</td>\n",
       "      <td>0</td>\n",
       "      <td>0</td>\n",
       "      <td>45</td>\n",
       "      <td>United-States</td>\n",
       "      <td>0</td>\n",
       "    </tr>\n",
       "    <tr>\n",
       "      <th>997</th>\n",
       "      <td>48</td>\n",
       "      <td>Federal-gov</td>\n",
       "      <td>33109</td>\n",
       "      <td>Bachelors</td>\n",
       "      <td>13</td>\n",
       "      <td>Divorced</td>\n",
       "      <td>Exec-managerial</td>\n",
       "      <td>Unmarried</td>\n",
       "      <td>White</td>\n",
       "      <td>Male</td>\n",
       "      <td>0</td>\n",
       "      <td>0</td>\n",
       "      <td>58</td>\n",
       "      <td>United-States</td>\n",
       "      <td>1</td>\n",
       "    </tr>\n",
       "    <tr>\n",
       "      <th>998</th>\n",
       "      <td>40</td>\n",
       "      <td>Private</td>\n",
       "      <td>82465</td>\n",
       "      <td>Some-college</td>\n",
       "      <td>10</td>\n",
       "      <td>Married-civ-spouse</td>\n",
       "      <td>Machine-op-inspct</td>\n",
       "      <td>Husband</td>\n",
       "      <td>White</td>\n",
       "      <td>Male</td>\n",
       "      <td>2580</td>\n",
       "      <td>0</td>\n",
       "      <td>40</td>\n",
       "      <td>United-States</td>\n",
       "      <td>0</td>\n",
       "    </tr>\n",
       "    <tr>\n",
       "      <th>999</th>\n",
       "      <td>39</td>\n",
       "      <td>Self-emp-inc</td>\n",
       "      <td>329980</td>\n",
       "      <td>Bachelors</td>\n",
       "      <td>13</td>\n",
       "      <td>Married-civ-spouse</td>\n",
       "      <td>Exec-managerial</td>\n",
       "      <td>Husband</td>\n",
       "      <td>White</td>\n",
       "      <td>Male</td>\n",
       "      <td>15024</td>\n",
       "      <td>0</td>\n",
       "      <td>50</td>\n",
       "      <td>United-States</td>\n",
       "      <td>1</td>\n",
       "    </tr>\n",
       "  </tbody>\n",
       "</table>\n",
       "<p>1000 rows × 15 columns</p>\n",
       "</div>"
      ],
      "text/plain": [
       "     age          workclass  fnlwgt      education  education_num  \\\n",
       "0     39          State-gov   77516      Bachelors             13   \n",
       "1     50   Self-emp-not-inc   83311      Bachelors             13   \n",
       "2     38            Private  215646        HS-grad              9   \n",
       "3     53            Private  234721           11th              7   \n",
       "4     28            Private  338409      Bachelors             13   \n",
       "..   ...                ...     ...            ...            ...   \n",
       "995   56            Private  112840        HS-grad              9   \n",
       "996   45            Private   89325        Masters             14   \n",
       "997   48        Federal-gov   33109      Bachelors             13   \n",
       "998   40            Private   82465   Some-college             10   \n",
       "999   39       Self-emp-inc  329980      Bachelors             13   \n",
       "\n",
       "          marital_status          occupation    relationship    race      sex  \\\n",
       "0          Never-married        Adm-clerical   Not-in-family   White     Male   \n",
       "1     Married-civ-spouse     Exec-managerial         Husband   White     Male   \n",
       "2               Divorced   Handlers-cleaners   Not-in-family   White     Male   \n",
       "3     Married-civ-spouse   Handlers-cleaners         Husband   Black     Male   \n",
       "4     Married-civ-spouse      Prof-specialty            Wife   Black   Female   \n",
       "..                   ...                 ...             ...     ...      ...   \n",
       "995   Married-civ-spouse     Exec-managerial         Husband   White     Male   \n",
       "996             Divorced      Prof-specialty   Not-in-family   White     Male   \n",
       "997             Divorced     Exec-managerial       Unmarried   White     Male   \n",
       "998   Married-civ-spouse   Machine-op-inspct         Husband   White     Male   \n",
       "999   Married-civ-spouse     Exec-managerial         Husband   White     Male   \n",
       "\n",
       "     capital_gain  capital_loss  hours_per_week  native_country  salary  \n",
       "0            2174             0              40   United-States       0  \n",
       "1               0             0              13   United-States       0  \n",
       "2               0             0              40   United-States       0  \n",
       "3               0             0              40   United-States       0  \n",
       "4               0             0              40            Cuba       0  \n",
       "..            ...           ...             ...             ...     ...  \n",
       "995             0             0              55   United-States       1  \n",
       "996             0             0              45   United-States       0  \n",
       "997             0             0              58   United-States       1  \n",
       "998          2580             0              40   United-States       0  \n",
       "999         15024             0              50   United-States       1  \n",
       "\n",
       "[1000 rows x 15 columns]"
      ]
     },
     "execution_count": 2,
     "metadata": {},
     "output_type": "execute_result"
    }
   ],
   "source": [
    "adult1000=adult.truncate(before = 0, after = 999)\n",
    "adult1000"
   ]
  },
  {
   "cell_type": "markdown",
   "metadata": {},
   "source": [
    "We will be importing <b>Label Encoder </b> package from <b> sklearn </b>. This package contains the <b>LabelEncoder()</b> function, which will allow us to convert non numerical data into numerical data, which is also known as <b>Encoding </b>.\n",
    "\n",
    "After the encoding process is done, we are storing this under a new dataframe named <b>adult_encode</b>. \n",
    "\n",
    "Now, our dataframe consists of encoded values. For original and scaled data purpose we will be storing the original in one dataframe named <b>adult_encode_copy</b> and the scaled in another dataframe named <b> adult_scaled</b>."
   ]
  },
  {
   "cell_type": "code",
   "execution_count": 3,
   "metadata": {},
   "outputs": [
    {
     "data": {
      "text/plain": [
       "age                int64\n",
       "workclass         object\n",
       "fnlwgt             int64\n",
       "education         object\n",
       "education_num      int64\n",
       "marital_status    object\n",
       "occupation        object\n",
       "relationship      object\n",
       "race              object\n",
       "sex               object\n",
       "capital_gain       int64\n",
       "capital_loss       int64\n",
       "hours_per_week     int64\n",
       "native_country    object\n",
       "salary             int64\n",
       "dtype: object"
      ]
     },
     "execution_count": 3,
     "metadata": {},
     "output_type": "execute_result"
    }
   ],
   "source": [
    "adult1000.dtypes"
   ]
  },
  {
   "cell_type": "code",
   "execution_count": 4,
   "metadata": {},
   "outputs": [
    {
     "data": {
      "text/html": [
       "<div>\n",
       "<style scoped>\n",
       "    .dataframe tbody tr th:only-of-type {\n",
       "        vertical-align: middle;\n",
       "    }\n",
       "\n",
       "    .dataframe tbody tr th {\n",
       "        vertical-align: top;\n",
       "    }\n",
       "\n",
       "    .dataframe thead th {\n",
       "        text-align: right;\n",
       "    }\n",
       "</style>\n",
       "<table border=\"1\" class=\"dataframe\">\n",
       "  <thead>\n",
       "    <tr style=\"text-align: right;\">\n",
       "      <th></th>\n",
       "      <th>age</th>\n",
       "      <th>workclass</th>\n",
       "      <th>fnlwgt</th>\n",
       "      <th>education</th>\n",
       "      <th>education_num</th>\n",
       "      <th>marital_status</th>\n",
       "      <th>occupation</th>\n",
       "      <th>relationship</th>\n",
       "      <th>race</th>\n",
       "      <th>sex</th>\n",
       "      <th>capital_gain</th>\n",
       "      <th>capital_loss</th>\n",
       "      <th>hours_per_week</th>\n",
       "      <th>native_country</th>\n",
       "      <th>salary</th>\n",
       "    </tr>\n",
       "  </thead>\n",
       "  <tbody>\n",
       "    <tr>\n",
       "      <th>0</th>\n",
       "      <td>22</td>\n",
       "      <td>6</td>\n",
       "      <td>110</td>\n",
       "      <td>9</td>\n",
       "      <td>12</td>\n",
       "      <td>4</td>\n",
       "      <td>1</td>\n",
       "      <td>1</td>\n",
       "      <td>4</td>\n",
       "      <td>1</td>\n",
       "      <td>6</td>\n",
       "      <td>0</td>\n",
       "      <td>31</td>\n",
       "      <td>28</td>\n",
       "      <td>0</td>\n",
       "    </tr>\n",
       "    <tr>\n",
       "      <th>1</th>\n",
       "      <td>33</td>\n",
       "      <td>5</td>\n",
       "      <td>125</td>\n",
       "      <td>9</td>\n",
       "      <td>12</td>\n",
       "      <td>2</td>\n",
       "      <td>4</td>\n",
       "      <td>0</td>\n",
       "      <td>4</td>\n",
       "      <td>1</td>\n",
       "      <td>0</td>\n",
       "      <td>0</td>\n",
       "      <td>10</td>\n",
       "      <td>28</td>\n",
       "      <td>0</td>\n",
       "    </tr>\n",
       "    <tr>\n",
       "      <th>2</th>\n",
       "      <td>21</td>\n",
       "      <td>3</td>\n",
       "      <td>667</td>\n",
       "      <td>11</td>\n",
       "      <td>8</td>\n",
       "      <td>0</td>\n",
       "      <td>6</td>\n",
       "      <td>1</td>\n",
       "      <td>4</td>\n",
       "      <td>1</td>\n",
       "      <td>0</td>\n",
       "      <td>0</td>\n",
       "      <td>31</td>\n",
       "      <td>28</td>\n",
       "      <td>0</td>\n",
       "    </tr>\n",
       "    <tr>\n",
       "      <th>3</th>\n",
       "      <td>36</td>\n",
       "      <td>3</td>\n",
       "      <td>707</td>\n",
       "      <td>1</td>\n",
       "      <td>6</td>\n",
       "      <td>2</td>\n",
       "      <td>6</td>\n",
       "      <td>0</td>\n",
       "      <td>2</td>\n",
       "      <td>1</td>\n",
       "      <td>0</td>\n",
       "      <td>0</td>\n",
       "      <td>31</td>\n",
       "      <td>28</td>\n",
       "      <td>0</td>\n",
       "    </tr>\n",
       "    <tr>\n",
       "      <th>4</th>\n",
       "      <td>11</td>\n",
       "      <td>3</td>\n",
       "      <td>898</td>\n",
       "      <td>9</td>\n",
       "      <td>12</td>\n",
       "      <td>2</td>\n",
       "      <td>10</td>\n",
       "      <td>5</td>\n",
       "      <td>2</td>\n",
       "      <td>0</td>\n",
       "      <td>0</td>\n",
       "      <td>0</td>\n",
       "      <td>31</td>\n",
       "      <td>5</td>\n",
       "      <td>0</td>\n",
       "    </tr>\n",
       "  </tbody>\n",
       "</table>\n",
       "</div>"
      ],
      "text/plain": [
       "   age  workclass  fnlwgt  education  education_num  marital_status  \\\n",
       "0   22          6     110          9             12               4   \n",
       "1   33          5     125          9             12               2   \n",
       "2   21          3     667         11              8               0   \n",
       "3   36          3     707          1              6               2   \n",
       "4   11          3     898          9             12               2   \n",
       "\n",
       "   occupation  relationship  race  sex  capital_gain  capital_loss  \\\n",
       "0           1             1     4    1             6             0   \n",
       "1           4             0     4    1             0             0   \n",
       "2           6             1     4    1             0             0   \n",
       "3           6             0     2    1             0             0   \n",
       "4          10             5     2    0             0             0   \n",
       "\n",
       "   hours_per_week  native_country  salary  \n",
       "0              31              28       0  \n",
       "1              10              28       0  \n",
       "2              31              28       0  \n",
       "3              31              28       0  \n",
       "4              31               5       0  "
      ]
     },
     "execution_count": 4,
     "metadata": {},
     "output_type": "execute_result"
    }
   ],
   "source": [
    "import pandas as pd\n",
    "from sklearn.preprocessing import MinMaxScaler\n",
    "from sklearn.preprocessing import LabelEncoder\n",
    "\n",
    "le = LabelEncoder()\n",
    "adult_encode = adult1000.apply(le.fit_transform)\n",
    "adult_encode_copy=adult_encode.copy()\n",
    "adult_encode_copy.head()"
   ]
  },
  {
   "cell_type": "markdown",
   "metadata": {},
   "source": [
    "Now, we will be using <b> Min Max Scaler</b> for scaling our feature data. <b> Min Max Scaler</b> allows us to transform the feature data. This is achieved by using a specific range for the feature columns and then using this to scale each feature data to the specific range provided. For Scaling, the feature range commonly used would be from 0 to 1. <b> Min Max Scaler</b> reduces the min value in the feature and then it divides by the range value.\n",
    "\n",
    "<b> Min Max Scaler</b> preserves the shape of feature data and therfore not altering the data during the scaling process.\n",
    "\n",
    "In order to use the <b> Min Max Scaler</b>, we will be importing the <b> Min Max Scaler Package</b> from <b>Sklearn</b> and then we will use the function <b> MinMaxScaler()</b> to perform the scaling for our encoded data.\n",
    "\n",
    "After performing this task, we are now going to save the scaled data within a new dataframe named <b>adult_scaled</b>."
   ]
  },
  {
   "cell_type": "code",
   "execution_count": 138,
   "metadata": {},
   "outputs": [
    {
     "data": {
      "text/html": [
       "<div>\n",
       "<style scoped>\n",
       "    .dataframe tbody tr th:only-of-type {\n",
       "        vertical-align: middle;\n",
       "    }\n",
       "\n",
       "    .dataframe tbody tr th {\n",
       "        vertical-align: top;\n",
       "    }\n",
       "\n",
       "    .dataframe thead th {\n",
       "        text-align: right;\n",
       "    }\n",
       "</style>\n",
       "<table border=\"1\" class=\"dataframe\">\n",
       "  <thead>\n",
       "    <tr style=\"text-align: right;\">\n",
       "      <th></th>\n",
       "      <th>0</th>\n",
       "      <th>1</th>\n",
       "      <th>2</th>\n",
       "      <th>3</th>\n",
       "      <th>4</th>\n",
       "      <th>5</th>\n",
       "      <th>6</th>\n",
       "      <th>7</th>\n",
       "      <th>8</th>\n",
       "      <th>9</th>\n",
       "      <th>10</th>\n",
       "      <th>11</th>\n",
       "      <th>12</th>\n",
       "      <th>13</th>\n",
       "      <th>14</th>\n",
       "    </tr>\n",
       "  </thead>\n",
       "  <tbody>\n",
       "    <tr>\n",
       "      <th>0</th>\n",
       "      <td>0.338462</td>\n",
       "      <td>1.000000</td>\n",
       "      <td>0.111562</td>\n",
       "      <td>0.600000</td>\n",
       "      <td>0.800000</td>\n",
       "      <td>0.666667</td>\n",
       "      <td>0.071429</td>\n",
       "      <td>0.2</td>\n",
       "      <td>1.0</td>\n",
       "      <td>1.0</td>\n",
       "      <td>0.171429</td>\n",
       "      <td>0.0</td>\n",
       "      <td>0.563636</td>\n",
       "      <td>1.000000</td>\n",
       "      <td>0.0</td>\n",
       "    </tr>\n",
       "    <tr>\n",
       "      <th>1</th>\n",
       "      <td>0.507692</td>\n",
       "      <td>0.833333</td>\n",
       "      <td>0.126775</td>\n",
       "      <td>0.600000</td>\n",
       "      <td>0.800000</td>\n",
       "      <td>0.333333</td>\n",
       "      <td>0.285714</td>\n",
       "      <td>0.0</td>\n",
       "      <td>1.0</td>\n",
       "      <td>1.0</td>\n",
       "      <td>0.000000</td>\n",
       "      <td>0.0</td>\n",
       "      <td>0.181818</td>\n",
       "      <td>1.000000</td>\n",
       "      <td>0.0</td>\n",
       "    </tr>\n",
       "    <tr>\n",
       "      <th>2</th>\n",
       "      <td>0.323077</td>\n",
       "      <td>0.500000</td>\n",
       "      <td>0.676471</td>\n",
       "      <td>0.733333</td>\n",
       "      <td>0.533333</td>\n",
       "      <td>0.000000</td>\n",
       "      <td>0.428571</td>\n",
       "      <td>0.2</td>\n",
       "      <td>1.0</td>\n",
       "      <td>1.0</td>\n",
       "      <td>0.000000</td>\n",
       "      <td>0.0</td>\n",
       "      <td>0.563636</td>\n",
       "      <td>1.000000</td>\n",
       "      <td>0.0</td>\n",
       "    </tr>\n",
       "    <tr>\n",
       "      <th>3</th>\n",
       "      <td>0.553846</td>\n",
       "      <td>0.500000</td>\n",
       "      <td>0.717039</td>\n",
       "      <td>0.066667</td>\n",
       "      <td>0.400000</td>\n",
       "      <td>0.333333</td>\n",
       "      <td>0.428571</td>\n",
       "      <td>0.0</td>\n",
       "      <td>0.5</td>\n",
       "      <td>1.0</td>\n",
       "      <td>0.000000</td>\n",
       "      <td>0.0</td>\n",
       "      <td>0.563636</td>\n",
       "      <td>1.000000</td>\n",
       "      <td>0.0</td>\n",
       "    </tr>\n",
       "    <tr>\n",
       "      <th>4</th>\n",
       "      <td>0.169231</td>\n",
       "      <td>0.500000</td>\n",
       "      <td>0.910751</td>\n",
       "      <td>0.600000</td>\n",
       "      <td>0.800000</td>\n",
       "      <td>0.333333</td>\n",
       "      <td>0.714286</td>\n",
       "      <td>1.0</td>\n",
       "      <td>0.5</td>\n",
       "      <td>0.0</td>\n",
       "      <td>0.000000</td>\n",
       "      <td>0.0</td>\n",
       "      <td>0.563636</td>\n",
       "      <td>0.178571</td>\n",
       "      <td>0.0</td>\n",
       "    </tr>\n",
       "    <tr>\n",
       "      <th>...</th>\n",
       "      <td>...</td>\n",
       "      <td>...</td>\n",
       "      <td>...</td>\n",
       "      <td>...</td>\n",
       "      <td>...</td>\n",
       "      <td>...</td>\n",
       "      <td>...</td>\n",
       "      <td>...</td>\n",
       "      <td>...</td>\n",
       "      <td>...</td>\n",
       "      <td>...</td>\n",
       "      <td>...</td>\n",
       "      <td>...</td>\n",
       "      <td>...</td>\n",
       "      <td>...</td>\n",
       "    </tr>\n",
       "    <tr>\n",
       "      <th>995</th>\n",
       "      <td>0.600000</td>\n",
       "      <td>0.500000</td>\n",
       "      <td>0.240365</td>\n",
       "      <td>0.733333</td>\n",
       "      <td>0.533333</td>\n",
       "      <td>0.333333</td>\n",
       "      <td>0.285714</td>\n",
       "      <td>0.0</td>\n",
       "      <td>1.0</td>\n",
       "      <td>1.0</td>\n",
       "      <td>0.000000</td>\n",
       "      <td>0.0</td>\n",
       "      <td>0.781818</td>\n",
       "      <td>1.000000</td>\n",
       "      <td>1.0</td>\n",
       "    </tr>\n",
       "    <tr>\n",
       "      <th>996</th>\n",
       "      <td>0.430769</td>\n",
       "      <td>0.500000</td>\n",
       "      <td>0.143002</td>\n",
       "      <td>0.800000</td>\n",
       "      <td>0.866667</td>\n",
       "      <td>0.000000</td>\n",
       "      <td>0.714286</td>\n",
       "      <td>0.2</td>\n",
       "      <td>1.0</td>\n",
       "      <td>1.0</td>\n",
       "      <td>0.000000</td>\n",
       "      <td>0.0</td>\n",
       "      <td>0.654545</td>\n",
       "      <td>1.000000</td>\n",
       "      <td>0.0</td>\n",
       "    </tr>\n",
       "    <tr>\n",
       "      <th>997</th>\n",
       "      <td>0.476923</td>\n",
       "      <td>0.166667</td>\n",
       "      <td>0.027383</td>\n",
       "      <td>0.600000</td>\n",
       "      <td>0.800000</td>\n",
       "      <td>0.000000</td>\n",
       "      <td>0.285714</td>\n",
       "      <td>0.8</td>\n",
       "      <td>1.0</td>\n",
       "      <td>1.0</td>\n",
       "      <td>0.000000</td>\n",
       "      <td>0.0</td>\n",
       "      <td>0.818182</td>\n",
       "      <td>1.000000</td>\n",
       "      <td>1.0</td>\n",
       "    </tr>\n",
       "    <tr>\n",
       "      <th>998</th>\n",
       "      <td>0.353846</td>\n",
       "      <td>0.500000</td>\n",
       "      <td>0.123732</td>\n",
       "      <td>1.000000</td>\n",
       "      <td>0.600000</td>\n",
       "      <td>0.333333</td>\n",
       "      <td>0.500000</td>\n",
       "      <td>0.0</td>\n",
       "      <td>1.0</td>\n",
       "      <td>1.0</td>\n",
       "      <td>0.285714</td>\n",
       "      <td>0.0</td>\n",
       "      <td>0.563636</td>\n",
       "      <td>1.000000</td>\n",
       "      <td>0.0</td>\n",
       "    </tr>\n",
       "    <tr>\n",
       "      <th>999</th>\n",
       "      <td>0.338462</td>\n",
       "      <td>0.666667</td>\n",
       "      <td>0.901623</td>\n",
       "      <td>0.600000</td>\n",
       "      <td>0.800000</td>\n",
       "      <td>0.333333</td>\n",
       "      <td>0.285714</td>\n",
       "      <td>0.0</td>\n",
       "      <td>1.0</td>\n",
       "      <td>1.0</td>\n",
       "      <td>0.914286</td>\n",
       "      <td>0.0</td>\n",
       "      <td>0.727273</td>\n",
       "      <td>1.000000</td>\n",
       "      <td>1.0</td>\n",
       "    </tr>\n",
       "  </tbody>\n",
       "</table>\n",
       "<p>1000 rows × 15 columns</p>\n",
       "</div>"
      ],
      "text/plain": [
       "            0         1         2         3         4         5         6  \\\n",
       "0    0.338462  1.000000  0.111562  0.600000  0.800000  0.666667  0.071429   \n",
       "1    0.507692  0.833333  0.126775  0.600000  0.800000  0.333333  0.285714   \n",
       "2    0.323077  0.500000  0.676471  0.733333  0.533333  0.000000  0.428571   \n",
       "3    0.553846  0.500000  0.717039  0.066667  0.400000  0.333333  0.428571   \n",
       "4    0.169231  0.500000  0.910751  0.600000  0.800000  0.333333  0.714286   \n",
       "..        ...       ...       ...       ...       ...       ...       ...   \n",
       "995  0.600000  0.500000  0.240365  0.733333  0.533333  0.333333  0.285714   \n",
       "996  0.430769  0.500000  0.143002  0.800000  0.866667  0.000000  0.714286   \n",
       "997  0.476923  0.166667  0.027383  0.600000  0.800000  0.000000  0.285714   \n",
       "998  0.353846  0.500000  0.123732  1.000000  0.600000  0.333333  0.500000   \n",
       "999  0.338462  0.666667  0.901623  0.600000  0.800000  0.333333  0.285714   \n",
       "\n",
       "       7    8    9        10   11        12        13   14  \n",
       "0    0.2  1.0  1.0  0.171429  0.0  0.563636  1.000000  0.0  \n",
       "1    0.0  1.0  1.0  0.000000  0.0  0.181818  1.000000  0.0  \n",
       "2    0.2  1.0  1.0  0.000000  0.0  0.563636  1.000000  0.0  \n",
       "3    0.0  0.5  1.0  0.000000  0.0  0.563636  1.000000  0.0  \n",
       "4    1.0  0.5  0.0  0.000000  0.0  0.563636  0.178571  0.0  \n",
       "..   ...  ...  ...       ...  ...       ...       ...  ...  \n",
       "995  0.0  1.0  1.0  0.000000  0.0  0.781818  1.000000  1.0  \n",
       "996  0.2  1.0  1.0  0.000000  0.0  0.654545  1.000000  0.0  \n",
       "997  0.8  1.0  1.0  0.000000  0.0  0.818182  1.000000  1.0  \n",
       "998  0.0  1.0  1.0  0.285714  0.0  0.563636  1.000000  0.0  \n",
       "999  0.0  1.0  1.0  0.914286  0.0  0.727273  1.000000  1.0  \n",
       "\n",
       "[1000 rows x 15 columns]"
      ]
     },
     "execution_count": 138,
     "metadata": {},
     "output_type": "execute_result"
    }
   ],
   "source": [
    "x = adult_encode.values \n",
    "min_max_scaler = MinMaxScaler()\n",
    "x_scaled = min_max_scaler.fit_transform(x)\n",
    "adult_scaled = pd.DataFrame(x_scaled)\n",
    "adult_scaled"
   ]
  },
  {
   "cell_type": "markdown",
   "metadata": {},
   "source": [
    "We will now split our data into <b>Training data </b> and <b>Testing data </b>. \n",
    "\n",
    "For this we will be importing the <b> train_test_split</b> package from <b> sklearn</b> for splitting the data. The <b>train_test_split </b> function will allow us to split the data into <b>Training data </b> and <b>Testing data </b>. \n",
    "\n",
    "Now, we will be using two dataframe for splitting purposes and for viewing accuracies for a particular dataframe. We are now going to use the <b> Original Dataframe </b> for splitting. \n",
    "\n",
    "Using the <b> train_test_split</b> function we are splitting the data into\n",
    "\n",
    "- <b> X_train</b>\n",
    "- <b> X_test</b>\n",
    "- <b> y_train</b>\n",
    "- <b> y_test</b> \n",
    "\n",
    "for the <b>Original Dataframe </b>\n",
    "\n",
    "and\n",
    "\n",
    "- <b> X_train_scaled</b>\n",
    "- <b> X_test_scaled</b>\n",
    "- <b> y_train_scaled</b>\n",
    "- <b> y_test_scaled</b> \n",
    "\n",
    "for the <b>Scaled Dataframe </b>\n",
    "\n",
    "Along with this, we are providing the initial training data size of <b> 80% </b> and testing data size of <b> 20% </b> when splitting the data"
   ]
  },
  {
   "cell_type": "markdown",
   "metadata": {},
   "source": [
    "Here, we are importing the <b>Decision Tree Classifier</b> package from <b>sklearn</b>, where we will be providing <b>max_depth</b>, <b>max_leaf_nodes</b>, and <b>min_samples_leaf</b> values with the function. We are using list to store the accuracy calues within the list for future referencing purpose.\n",
    "\n",
    "We are using <b>nested loops</b> to find the best accuracy for the testing data,\n",
    "\n",
    "where\n",
    "\n",
    "- <b>max_depth</b> values is between <b>3</b> and <b>4</b> with a step of <b>1</b>. Possible values are <b>[3,4]</b>.\n",
    "- <b>max_leaf_nodes</b> values is between  <b>10</b> and <b>15</b> with a step of <b>5</b>. Possible values are <b>[10,15]</b>.\n",
    "- <b>min_samples_leaf_nodes</b> values is between <b>10</b> and <b>20</b> with a step of <b>5</b>. Possible values are <b>[10,15,20]</b>.\n",
    "\n",
    "\n",
    "Using the <b>Decision Trees Classifier</b> we are then fitting the training values and then testing values. Then, we predict the training and testing accuracies for different <b>max_depth</b>, <b>max_leaf_nodes</b>, and <b>min_samples_leaf</b> values. Based on these, the accuraies are calculated. \n",
    "\n",
    "Then we are storing the training and testing accuracies for each different combinations under a different name and we are using indexing number for referencing the values and how it is related to other variables."
   ]
  },
  {
   "cell_type": "code",
   "execution_count": 140,
   "metadata": {},
   "outputs": [
    {
     "name": "stdout",
     "output_type": "stream",
     "text": [
      "For max_depth =  3 , max_leaf_nodes =  10 , min_samples_leaf 10 , accuracy on the training data is  77.25\n",
      "For max_depth =  3 , max_leaf_nodes =  10 , min_samples_leaf 10 , accuracy on the test data is  75.0 \n",
      "\n",
      "For max_depth =  3 , max_leaf_nodes =  10 , min_samples_leaf 15 , accuracy on the training data is  77.25\n",
      "For max_depth =  3 , max_leaf_nodes =  10 , min_samples_leaf 15 , accuracy on the test data is  75.0 \n",
      "\n",
      "For max_depth =  3 , max_leaf_nodes =  10 , min_samples_leaf 20 , accuracy on the training data is  77.25\n",
      "For max_depth =  3 , max_leaf_nodes =  10 , min_samples_leaf 20 , accuracy on the test data is  75.0 \n",
      "\n",
      "For max_depth =  3 , max_leaf_nodes =  15 , min_samples_leaf 10 , accuracy on the training data is  77.25\n",
      "For max_depth =  3 , max_leaf_nodes =  15 , min_samples_leaf 10 , accuracy on the test data is  75.0 \n",
      "\n",
      "For max_depth =  3 , max_leaf_nodes =  15 , min_samples_leaf 15 , accuracy on the training data is  77.25\n",
      "For max_depth =  3 , max_leaf_nodes =  15 , min_samples_leaf 15 , accuracy on the test data is  75.0 \n",
      "\n",
      "For max_depth =  3 , max_leaf_nodes =  15 , min_samples_leaf 20 , accuracy on the training data is  77.25\n",
      "For max_depth =  3 , max_leaf_nodes =  15 , min_samples_leaf 20 , accuracy on the test data is  75.0 \n",
      "\n",
      "For max_depth =  4 , max_leaf_nodes =  10 , min_samples_leaf 10 , accuracy on the training data is  78.5\n",
      "For max_depth =  4 , max_leaf_nodes =  10 , min_samples_leaf 10 , accuracy on the test data is  76.0 \n",
      "\n",
      "For max_depth =  4 , max_leaf_nodes =  10 , min_samples_leaf 15 , accuracy on the training data is  77.5\n",
      "For max_depth =  4 , max_leaf_nodes =  10 , min_samples_leaf 15 , accuracy on the test data is  75.0 \n",
      "\n",
      "For max_depth =  4 , max_leaf_nodes =  10 , min_samples_leaf 20 , accuracy on the training data is  77.5\n",
      "For max_depth =  4 , max_leaf_nodes =  10 , min_samples_leaf 20 , accuracy on the test data is  75.0 \n",
      "\n",
      "For max_depth =  4 , max_leaf_nodes =  15 , min_samples_leaf 10 , accuracy on the training data is  78.5\n",
      "For max_depth =  4 , max_leaf_nodes =  15 , min_samples_leaf 10 , accuracy on the test data is  76.0 \n",
      "\n",
      "For max_depth =  4 , max_leaf_nodes =  15 , min_samples_leaf 15 , accuracy on the training data is  77.5\n",
      "For max_depth =  4 , max_leaf_nodes =  15 , min_samples_leaf 15 , accuracy on the test data is  75.0 \n",
      "\n",
      "For max_depth =  4 , max_leaf_nodes =  15 , min_samples_leaf 20 , accuracy on the training data is  77.5\n",
      "For max_depth =  4 , max_leaf_nodes =  15 , min_samples_leaf 20 , accuracy on the test data is  75.0 \n",
      "\n"
     ]
    }
   ],
   "source": [
    "#original data split\n",
    "from sklearn.model_selection import train_test_split\n",
    "X=adult_encode_copy[['education']] #education\n",
    "y=adult_encode_copy[['salary']] #salary\n",
    "X_train, X_test, y_train, y_test = train_test_split(X, y,train_size=0.80,test_size=0.20, random_state=19)\n",
    "\n",
    "from sklearn.tree import DecisionTreeClassifier\n",
    "from sklearn import metrics\n",
    "\n",
    "acc_train_decision_list=[]\n",
    "acc_test_decision_list=[]\n",
    "\n",
    "for i in range(3,5,1):\n",
    "    for j in range(10,20,5):\n",
    "        for k in range(10,25,5):\n",
    "            clf_dec = DecisionTreeClassifier(random_state=19,max_depth=i,max_leaf_nodes =j,min_samples_leaf=k)\n",
    "            clf_dec.fit(X_train,y_train)\n",
    "            acc_train_decision = clf_dec.score(X_train, y_train)\n",
    "            acc_train_decision_list.append(acc_train_decision)\n",
    "            acc_test_decision = clf_dec.score(X_test, y_test)\n",
    "            acc_test_decision_list.append(acc_test_decision)\n",
    "            print(\"For max_depth = \",i,\", max_leaf_nodes = \",j,\", min_samples_leaf\",k,\", accuracy on the training data is \",acc_train_decision*100)\n",
    "            print(\"For max_depth = \",i,\", max_leaf_nodes = \",j,\", min_samples_leaf\",k,\", accuracy on the test data is \",acc_test_decision*100,'\\n')\n",
    "            \n",
    "            \n",
    "            \n",
    "train_accuracies_1 = acc_train_decision_list[0]\n",
    "train_accuracies_2 = acc_train_decision_list[1]\n",
    "train_accuracies_3 = acc_train_decision_list[2]\n",
    "train_accuracies_4 = acc_train_decision_list[3]\n",
    "train_accuracies_5 = acc_train_decision_list[4]\n",
    "train_accuracies_6 = acc_train_decision_list[5]\n",
    "train_accuracies_7 = acc_train_decision_list[6]\n",
    "train_accuracies_8 = acc_train_decision_list[7]\n",
    "train_accuracies_9 = acc_train_decision_list[8]\n",
    "train_accuracies_10 = acc_train_decision_list[9]\n",
    "train_accuracies_11 = acc_train_decision_list[10]\n",
    "train_accuracies_12 = acc_train_decision_list[11]\n",
    "\n",
    "test_accuracies_1 = acc_test_decision_list[0]\n",
    "test_accuracies_2 = acc_test_decision_list[1]\n",
    "test_accuracies_3 = acc_test_decision_list[2]\n",
    "test_accuracies_4 = acc_test_decision_list[3]\n",
    "test_accuracies_5 = acc_test_decision_list[4]\n",
    "test_accuracies_6 = acc_test_decision_list[5]\n",
    "test_accuracies_7 = acc_test_decision_list[6]\n",
    "test_accuracies_8 = acc_test_decision_list[7]\n",
    "test_accuracies_9 = acc_test_decision_list[8]\n",
    "test_accuracies_10 = acc_test_decision_list[9]\n",
    "test_accuracies_11 = acc_test_decision_list[10]\n",
    "test_accuracies_12 = acc_test_decision_list[11]"
   ]
  },
  {
   "cell_type": "code",
   "execution_count": 141,
   "metadata": {},
   "outputs": [
    {
     "name": "stdout",
     "output_type": "stream",
     "text": [
      "Accuracy on the training data is  77.25\n",
      "Accuracy on the test data is  75.0\n"
     ]
    },
    {
     "data": {
      "image/png": "[encoded data removed]",
      "text/plain": [
       "<Figure size 1152x576 with 1 Axes>"
      ]
     },
     "metadata": {
      "needs_background": "light"
     },
     "output_type": "display_data"
    }
   ],
   "source": [
    "# 1\n",
    "import matplotlib.patches as mpatches\n",
    "import numpy as np\n",
    "import pandas as pd\n",
    "from pandas import Series, DataFrame\n",
    "import matplotlib.pyplot as plt\n",
    "print(\"Accuracy on the training data is \",train_accuracies_1*100)\n",
    "print(\"Accuracy on the test data is \",test_accuracies_1*100)\n",
    "data1 = [train_accuracies_1,test_accuracies_1]\n",
    "labels = ['Train Accuracy','Test Acuuracy']\n",
    "plt.xticks(range(len(data1)), labels)\n",
    "plt.ylabel('Accuracy')\n",
    "plt.title('Accuracy plot for max_depth=3,max_leaf_nodes=10,min_samples_leaf=10')\n",
    "plt.bar(range(len(data1)), data1,color=['blue','darkorange']) \n",
    "Train_acc = mpatches.Patch(color='blue', label='Train_acc')\n",
    "Test_acc = mpatches.Patch(color='darkorange', label='Test_acc')\n",
    "plt.legend(handles=[Train_acc, Test_acc],loc='best')\n",
    "plt.gcf().set_size_inches(16, 8)\n",
    "plt.show()"
   ]
  },
  {
   "cell_type": "code",
   "execution_count": 142,
   "metadata": {},
   "outputs": [
    {
     "name": "stdout",
     "output_type": "stream",
     "text": [
      "Accuracy on the training data is  77.25\n",
      "Accuracy on the test data is  75.0\n"
     ]
    },
    {
     "data": {
      "image/png": "[encoded data removed]",
      "text/plain": [
       "<Figure size 1152x576 with 1 Axes>"
      ]
     },
     "metadata": {
      "needs_background": "light"
     },
     "output_type": "display_data"
    }
   ],
   "source": [
    "# 2\n",
    "import numpy as np\n",
    "import pandas as pd\n",
    "from pandas import Series, DataFrame\n",
    "import matplotlib.pyplot as plt\n",
    "print(\"Accuracy on the training data is \",train_accuracies_2*100)\n",
    "print(\"Accuracy on the test data is \",test_accuracies_2*100)\n",
    "data2 = [train_accuracies_2,test_accuracies_2]\n",
    "labels = ['Train Accuracy','Test Acuuracy']\n",
    "plt.xticks(range(len(data2)), labels)\n",
    "plt.ylabel('Accuracy')\n",
    "plt.title('Accuracy plot for max_depth=3,max_leaf_nodes=10,min_samples_leaf=15')\n",
    "plt.bar(range(len(data2)), data2,color=['blue','darkorange']) \n",
    "Train_acc = mpatches.Patch(color='blue', label='Train_acc')\n",
    "Test_acc = mpatches.Patch(color='darkorange', label='Test_acc')\n",
    "plt.legend(handles=[Train_acc, Test_acc],loc='best')\n",
    "plt.gcf().set_size_inches(16, 8)\n",
    "plt.show()"
   ]
  },
  {
   "cell_type": "code",
   "execution_count": 143,
   "metadata": {},
   "outputs": [
    {
     "name": "stdout",
     "output_type": "stream",
     "text": [
      "Accuracy on the training data is  77.25\n",
      "Accuracy on the test data is  75.0\n"
     ]
    },
    {
     "data": {
      "image/png": "[encoded data removed]",
      "text/plain": [
       "<Figure size 1152x576 with 1 Axes>"
      ]
     },
     "metadata": {
      "needs_background": "light"
     },
     "output_type": "display_data"
    }
   ],
   "source": [
    "# 3\n",
    "import numpy as np\n",
    "import pandas as pd\n",
    "from pandas import Series, DataFrame\n",
    "import matplotlib.pyplot as plt\n",
    "print(\"Accuracy on the training data is \",train_accuracies_3*100)\n",
    "print(\"Accuracy on the test data is \",test_accuracies_3*100)\n",
    "data3 = [train_accuracies_3,test_accuracies_3]\n",
    "labels = ['Train Accuracy','Test Acuuracy']\n",
    "plt.xticks(range(len(data3)), labels)\n",
    "plt.ylabel('Accuracy')\n",
    "plt.title('Accuracy plot for max_depth=3,max_leaf_nodes=10,min_samples_leaf=20')\n",
    "plt.bar(range(len(data3)), data3,color=['blue','darkorange']) \n",
    "Train_acc = mpatches.Patch(color='blue', label='Train_acc')\n",
    "Test_acc = mpatches.Patch(color='darkorange', label='Test_acc')\n",
    "plt.legend(handles=[Train_acc, Test_acc],loc='best')\n",
    "plt.gcf().set_size_inches(16, 8)\n",
    "plt.show()"
   ]
  },
  {
   "cell_type": "code",
   "execution_count": 144,
   "metadata": {},
   "outputs": [
    {
     "name": "stdout",
     "output_type": "stream",
     "text": [
      "Accuracy on the training data is  77.25\n",
      "Accuracy on the test data is  75.0\n"
     ]
    },
    {
     "data": {
      "image/png": "[encoded data removed]",
      "text/plain": [
       "<Figure size 1152x576 with 1 Axes>"
      ]
     },
     "metadata": {
      "needs_background": "light"
     },
     "output_type": "display_data"
    }
   ],
   "source": [
    "# 4\n",
    "import numpy as np\n",
    "import pandas as pd\n",
    "from pandas import Series, DataFrame\n",
    "import matplotlib.pyplot as plt\n",
    "print(\"Accuracy on the training data is \",train_accuracies_4*100)\n",
    "print(\"Accuracy on the test data is \",test_accuracies_4*100)\n",
    "data4 = [train_accuracies_4,test_accuracies_4]\n",
    "labels = ['Train Accuracy','Test Acuuracy']\n",
    "plt.xticks(range(len(data4)), labels)\n",
    "plt.ylabel('Accuracy')\n",
    "plt.title('Accuracy plot for max_depth=3,max_leaf_nodes=15,min_samples_leaf=10')\n",
    "plt.bar(range(len(data4)), data4,color=['blue','darkorange']) \n",
    "Train_acc = mpatches.Patch(color='blue', label='Train_acc')\n",
    "Test_acc = mpatches.Patch(color='darkorange', label='Test_acc')\n",
    "plt.legend(handles=[Train_acc, Test_acc],loc='best')\n",
    "plt.gcf().set_size_inches(16, 8)\n",
    "plt.show()"
   ]
  },
  {
   "cell_type": "code",
   "execution_count": 145,
   "metadata": {},
   "outputs": [
    {
     "name": "stdout",
     "output_type": "stream",
     "text": [
      "Accuracy on the training data is  77.25\n",
      "Accuracy on the test data is  75.0\n"
     ]
    },
    {
     "data": {
      "image/png": "[encoded data removed]",
      "text/plain": [
       "<Figure size 1152x576 with 1 Axes>"
      ]
     },
     "metadata": {
      "needs_background": "light"
     },
     "output_type": "display_data"
    }
   ],
   "source": [
    "# 5\n",
    "import numpy as np\n",
    "import pandas as pd\n",
    "from pandas import Series, DataFrame\n",
    "import matplotlib.pyplot as plt\n",
    "print(\"Accuracy on the training data is \",train_accuracies_5*100)\n",
    "print(\"Accuracy on the test data is \",test_accuracies_5*100)\n",
    "data5 = [train_accuracies_5,test_accuracies_5]\n",
    "labels = ['Train Accuracy','Test Acuuracy']\n",
    "plt.xticks(range(len(data5)), labels)\n",
    "plt.ylabel('Accuracy')\n",
    "plt.title('Accuracy plot for max_depth=3,max_leaf_nodes=15,min_samples_leaf=15')\n",
    "plt.bar(range(len(data5)), data5,color=['blue','darkorange']) \n",
    "Train_acc = mpatches.Patch(color='blue', label='Train_acc')\n",
    "Test_acc = mpatches.Patch(color='darkorange', label='Test_acc')\n",
    "plt.legend(handles=[Train_acc, Test_acc],loc='best')\n",
    "plt.gcf().set_size_inches(16, 8)\n",
    "plt.show()"
   ]
  },
  {
   "cell_type": "code",
   "execution_count": 146,
   "metadata": {},
   "outputs": [
    {
     "name": "stdout",
     "output_type": "stream",
     "text": [
      "Accuracy on the training data is  77.25\n",
      "Accuracy on the test data is  75.0\n"
     ]
    },
    {
     "data": {
      "image/png": "[encoded data removed]",
      "text/plain": [
       "<Figure size 1152x576 with 1 Axes>"
      ]
     },
     "metadata": {
      "needs_background": "light"
     },
     "output_type": "display_data"
    }
   ],
   "source": [
    "# 6\n",
    "import numpy as np\n",
    "import pandas as pd\n",
    "from pandas import Series, DataFrame\n",
    "import matplotlib.pyplot as plt\n",
    "print(\"Accuracy on the training data is \",train_accuracies_6*100)\n",
    "print(\"Accuracy on the test data is \",test_accuracies_6*100)\n",
    "data6 = [train_accuracies_6,test_accuracies_6]\n",
    "labels = ['Train Accuracy','Test Acuuracy']\n",
    "plt.xticks(range(len(data6)), labels)\n",
    "plt.ylabel('Accuracy')\n",
    "plt.title('Accuracy plot for max_depth=3,max_leaf_nodes=15,min_samples_leaf=20')\n",
    "plt.bar(range(len(data6)), data6,color=['blue','darkorange']) \n",
    "Train_acc = mpatches.Patch(color='blue', label='Train_acc')\n",
    "Test_acc = mpatches.Patch(color='darkorange', label='Test_acc')\n",
    "plt.legend(handles=[Train_acc, Test_acc],loc='best')\n",
    "plt.gcf().set_size_inches(16, 8)\n",
    "plt.show()"
   ]
  },
  {
   "cell_type": "code",
   "execution_count": 147,
   "metadata": {},
   "outputs": [
    {
     "name": "stdout",
     "output_type": "stream",
     "text": [
      "Accuracy on the training data is  78.5\n",
      "Accuracy on the test data is  76.0\n"
     ]
    },
    {
     "data": {
      "image/png": "[encoded data removed]",
      "text/plain": [
       "<Figure size 1152x576 with 1 Axes>"
      ]
     },
     "metadata": {
      "needs_background": "light"
     },
     "output_type": "display_data"
    }
   ],
   "source": [
    "# 7\n",
    "import numpy as np\n",
    "import pandas as pd\n",
    "from pandas import Series, DataFrame\n",
    "import matplotlib.pyplot as plt\n",
    "print(\"Accuracy on the training data is \",train_accuracies_7*100)\n",
    "print(\"Accuracy on the test data is \",test_accuracies_7*100)\n",
    "data7 = [train_accuracies_7,test_accuracies_7]\n",
    "labels = ['Train Accuracy','Test Acuuracy']\n",
    "plt.xticks(range(len(data7)), labels)\n",
    "plt.ylabel('Accuracy')\n",
    "plt.title('Accuracy plot for max_depth=4,max_leaf_nodes=10,min_samples_leaf=10')\n",
    "plt.bar(range(len(data7)), data7,color=['blue','darkorange']) \n",
    "Train_acc = mpatches.Patch(color='blue', label='Train_acc')\n",
    "Test_acc = mpatches.Patch(color='darkorange', label='Test_acc')\n",
    "plt.legend(handles=[Train_acc, Test_acc],loc='best')\n",
    "plt.gcf().set_size_inches(16, 8)\n",
    "plt.show()"
   ]
  },
  {
   "cell_type": "code",
   "execution_count": 148,
   "metadata": {},
   "outputs": [
    {
     "name": "stdout",
     "output_type": "stream",
     "text": [
      "Accuracy on the training data is  77.5\n",
      "Accuracy on the test data is  75.0\n"
     ]
    },
    {
     "data": {
      "image/png": "[encoded data removed]",
      "text/plain": [
       "<Figure size 1152x576 with 1 Axes>"
      ]
     },
     "metadata": {
      "needs_background": "light"
     },
     "output_type": "display_data"
    }
   ],
   "source": [
    "# 8\n",
    "import numpy as np\n",
    "import pandas as pd\n",
    "from pandas import Series, DataFrame\n",
    "import matplotlib.pyplot as plt\n",
    "print(\"Accuracy on the training data is \",train_accuracies_8*100)\n",
    "print(\"Accuracy on the test data is \",test_accuracies_8*100)\n",
    "data8 = [train_accuracies_8,test_accuracies_8]\n",
    "labels = ['Train Accuracy','Test Acuuracy']\n",
    "plt.xticks(range(len(data8)), labels)\n",
    "plt.ylabel('Accuracy')\n",
    "plt.title('Accuracy plot for max_depth=4,max_leaf_nodes=10,min_samples_leaf=15')\n",
    "plt.bar(range(len(data8)), data8,color=['blue','darkorange']) \n",
    "Train_acc = mpatches.Patch(color='blue', label='Train_acc')\n",
    "Test_acc = mpatches.Patch(color='darkorange', label='Test_acc')\n",
    "plt.legend(handles=[Train_acc, Test_acc],loc='best')\n",
    "plt.gcf().set_size_inches(16, 8)\n",
    "plt.show()"
   ]
  },
  {
   "cell_type": "code",
   "execution_count": 149,
   "metadata": {},
   "outputs": [
    {
     "name": "stdout",
     "output_type": "stream",
     "text": [
      "Accuracy on the training data is  77.5\n",
      "Accuracy on the test data is  75.0\n"
     ]
    },
    {
     "data": {
      "image/png": "[encoded data removed]",
      "text/plain": [
       "<Figure size 1152x576 with 1 Axes>"
      ]
     },
     "metadata": {
      "needs_background": "light"
     },
     "output_type": "display_data"
    }
   ],
   "source": [
    "# 9\n",
    "import numpy as np\n",
    "import pandas as pd\n",
    "from pandas import Series, DataFrame\n",
    "import matplotlib.pyplot as plt\n",
    "print(\"Accuracy on the training data is \",train_accuracies_9*100)\n",
    "print(\"Accuracy on the test data is \",test_accuracies_9*100)\n",
    "data9 = [train_accuracies_9,test_accuracies_9]\n",
    "labels = ['Train Accuracy','Test Acuuracy']\n",
    "plt.xticks(range(len(data9)), labels)\n",
    "plt.ylabel('Accuracy')\n",
    "plt.title('Accuracy plot for max_depth=4,max_leaf_nodes=10,min_samples_leaf=20')\n",
    "plt.bar(range(len(data9)), data9,color=['blue','darkorange']) \n",
    "Train_acc = mpatches.Patch(color='blue', label='Train_acc')\n",
    "Test_acc = mpatches.Patch(color='darkorange', label='Test_acc')\n",
    "plt.legend(handles=[Train_acc, Test_acc],loc='best')\n",
    "plt.gcf().set_size_inches(16, 8)\n",
    "plt.show()"
   ]
  },
  {
   "cell_type": "code",
   "execution_count": 150,
   "metadata": {},
   "outputs": [
    {
     "name": "stdout",
     "output_type": "stream",
     "text": [
      "Accuracy on the training data is  78.5\n",
      "Accuracy on the test data is  76.0\n"
     ]
    },
    {
     "data": {
      "image/png": "[encoded data removed]",
      "text/plain": [
       "<Figure size 1152x576 with 1 Axes>"
      ]
     },
     "metadata": {
      "needs_background": "light"
     },
     "output_type": "display_data"
    }
   ],
   "source": [
    "# 10\n",
    "import numpy as np\n",
    "import pandas as pd\n",
    "from pandas import Series, DataFrame\n",
    "import matplotlib.pyplot as plt\n",
    "print(\"Accuracy on the training data is \",train_accuracies_10*100)\n",
    "print(\"Accuracy on the test data is \",test_accuracies_10*100)\n",
    "data10 = [train_accuracies_10,test_accuracies_10]\n",
    "labels = ['Train Accuracy','Test Acuuracy']\n",
    "plt.xticks(range(len(data10)), labels)\n",
    "plt.ylabel('Accuracy')\n",
    "plt.title('Accuracy plot for max_depth=4,max_leaf_nodes=15,min_samples_leaf=10')\n",
    "plt.bar(range(len(data10)), data10,color=['blue','darkorange']) \n",
    "Train_acc = mpatches.Patch(color='blue', label='Train_acc')\n",
    "Test_acc = mpatches.Patch(color='darkorange', label='Test_acc')\n",
    "plt.legend(handles=[Train_acc, Test_acc],loc='best')\n",
    "plt.gcf().set_size_inches(16, 8)\n",
    "plt.show()"
   ]
  },
  {
   "cell_type": "code",
   "execution_count": 151,
   "metadata": {},
   "outputs": [
    {
     "name": "stdout",
     "output_type": "stream",
     "text": [
      "Accuracy on the training data is  77.5\n",
      "Accuracy on the test data is  75.0\n"
     ]
    },
    {
     "data": {
      "image/png": "[encoded data removed]",
      "text/plain": [
       "<Figure size 1152x576 with 1 Axes>"
      ]
     },
     "metadata": {
      "needs_background": "light"
     },
     "output_type": "display_data"
    }
   ],
   "source": [
    "# 11\n",
    "import numpy as np\n",
    "import pandas as pd\n",
    "from pandas import Series, DataFrame\n",
    "import matplotlib.pyplot as plt\n",
    "print(\"Accuracy on the training data is \",train_accuracies_11*100)\n",
    "print(\"Accuracy on the test data is \",test_accuracies_11*100)\n",
    "data11 = [train_accuracies_11,test_accuracies_11]\n",
    "labels = ['Train Accuracy','Test Acuuracy']\n",
    "plt.xticks(range(len(data11)), labels)\n",
    "plt.ylabel('Accuracy')\n",
    "plt.title('Accuracy plot for max_depth=4,max_leaf_nodes=15,min_samples_leaf=15')\n",
    "plt.bar(range(len(data11)), data11,color=['blue','darkorange']) \n",
    "Train_acc = mpatches.Patch(color='blue', label='Train_acc')\n",
    "Test_acc = mpatches.Patch(color='darkorange', label='Test_acc')\n",
    "plt.legend(handles=[Train_acc, Test_acc],loc='best')\n",
    "plt.gcf().set_size_inches(16, 8)\n",
    "plt.show()"
   ]
  },
  {
   "cell_type": "code",
   "execution_count": 152,
   "metadata": {},
   "outputs": [
    {
     "name": "stdout",
     "output_type": "stream",
     "text": [
      "Accuracy on the training data is  77.5\n",
      "Accuracy on the test data is  75.0\n"
     ]
    },
    {
     "data": {
      "image/png": "[encoded data removed]",
      "text/plain": [
       "<Figure size 1152x576 with 1 Axes>"
      ]
     },
     "metadata": {
      "needs_background": "light"
     },
     "output_type": "display_data"
    }
   ],
   "source": [
    "# 12\n",
    "import numpy as np\n",
    "import pandas as pd\n",
    "from pandas import Series, DataFrame\n",
    "import matplotlib.pyplot as plt\n",
    "print(\"Accuracy on the training data is \",train_accuracies_12*100)\n",
    "print(\"Accuracy on the test data is \",test_accuracies_12*100)\n",
    "data12 = [train_accuracies_12,test_accuracies_12]\n",
    "labels = ['Train Accuracy','Test Acuuracy']\n",
    "plt.xticks(range(len(data12)), labels)\n",
    "plt.ylabel('Accuracy')\n",
    "plt.title('Accuracy plot for max_depth=4,max_leaf_nodes=15,min_samples_leaf=20')\n",
    "plt.bar(range(len(data12)), data12,color=['blue','darkorange']) \n",
    "Train_acc = mpatches.Patch(color='blue', label='Train_acc')\n",
    "Test_acc = mpatches.Patch(color='darkorange', label='Test_acc')\n",
    "plt.legend(handles=[Train_acc, Test_acc],loc='best')\n",
    "plt.gcf().set_size_inches(16, 8)\n",
    "plt.show()"
   ]
  },
  {
   "cell_type": "markdown",
   "metadata": {},
   "source": [
    "2- Explain your plots and results."
   ]
  },
  {
   "cell_type": "markdown",
   "metadata": {},
   "source": [
    "Based on the previous calculated values, now we will be plotting graphs for all the train and test accuracies calculated before. Together, we have now plotted <b>12 graphs</b> for the train vs test accuracy values along with the corresponding <b>max_depth</b>, <b>max_leaf_nodes</b>, and <b>min_samples_leaf</b> values.\n",
    "\n",
    "Based on the above plots and results, we can see that the highest training and testing accuracy achieved was when \n",
    "\n",
    "<b>max_depth =  4</b> , <b>max_leaf_nodes =  10</b> , <b>min_samples_leaf = 10</b> , <b>accuracy on the training data is  78.5</b>\n",
    "<b>max_depth =  4</b> ,<b> max_leaf_nodes =  10</b> ,<b> min_samples_leaf = 10</b> , <b>accuracy on the test data is  76.0 </b>\n",
    "\n",
    "<b>max_depth =  4</b> , <b>max_leaf_nodes =  15</b> , <b>min_samples_leaf = 10</b> , <b>accuracy on the training data is  78.5</b>\n",
    "<b>max_depth =  4</b> , <b>max_leaf_nodes =  15</b> , <b>min_samples_leaf = 10</b> , <b>accuracy on the test data is  76.0</b> \n",
    "\n",
    "Other combinations have a similar training and testing accuracy values. Out of the 12, these two combinations had the highest train and test accuracies."
   ]
  },
  {
   "cell_type": "markdown",
   "metadata": {},
   "source": [
    "3- Create a for loop that splits the data into testing and training datasets starting from 5:95 ratio until you reach 20:80 ratio with a step of 5, on each step do the following:\n",
    "- Implement the Decision Trees classifier with the three parameters values found in step 1\n",
    "- Calculate and display the Confusion Matrix.\n",
    "- Calculate the AUC and the classification report and display them.\n",
    "- Plot the ROC curve."
   ]
  },
  {
   "cell_type": "markdown",
   "metadata": {},
   "source": [
    "<b>In step 3 </b>for implementing the <b>Decision Trees Classifier</b>, we are taking the best train and test accuracy values achieved with three parameter values from previous results for step 1.\n",
    "\n",
    "After taking \n",
    "<b>max_depth =  4</b> , <b>max_leaf_nodes =  10</b> , <b>min_samples_leaf = 10</b> , <b>accuracy on the training data is  78.5</b>\n",
    "<b>max_depth =  4</b> ,<b> max_leaf_nodes =  10</b> ,<b> min_samples_leaf = 10</b> , <b>accuracy on the test data is  76.0 </b>\n",
    "\n",
    "<b>max_depth =  4</b> , <b>max_leaf_nodes =  15</b> , <b>min_samples_leaf = 10</b> , <b>accuracy on the training data is  78.5</b>\n",
    "<b>max_depth =  4</b> , <b>max_leaf_nodes =  15</b> , <b>min_samples_leaf = 10</b> , <b>accuracy on the test data is  76.0</b> \n",
    "\n",
    "we will now be creating a for loop that splits the testing and training data starting from <b>testing of 5%</b> and <b>training of 95%</b> until the values reach <b>testing of 20%</b> and <b>training of 80%</b> with a <b>step of 5</b>. \n",
    "\n",
    "The same will be considered for each step with the following criterias specified above.\n",
    "\n",
    "For different training and testing size, we are using the <b>for loop</b> here and then split the train and test data based on loop. After splitting, we are calculating the train and test accuracies for different train and test size.\n",
    "\n",
    "Using list, we are storing the train and test accuracy values for the corresponding train and test size in a separate variable."
   ]
  },
  {
   "cell_type": "code",
   "execution_count": 153,
   "metadata": {},
   "outputs": [
    {
     "name": "stdout",
     "output_type": "stream",
     "text": [
      "For test size =  5  the accuracy on the training data is  78.42105263157895\n",
      "For test size =  5  the accuracy on the test data is  70.0 \n",
      "\n",
      "For test size =  10  the accuracy on the training data is  79.0\n",
      "For test size =  10  the accuracy on the test data is  69.0 \n",
      "\n",
      "For test size =  15  the accuracy on the training data is  78.3529411764706\n",
      "For test size =  15  the accuracy on the test data is  76.0 \n",
      "\n",
      "For test size =  20  the accuracy on the training data is  78.5\n",
      "For test size =  20  the accuracy on the test data is  76.0 \n",
      "\n"
     ]
    }
   ],
   "source": [
    "from sklearn.model_selection import train_test_split\n",
    "X_loop=adult_encode_copy[['education']] #education\n",
    "y_loop=adult_encode_copy[['salary']] #salary\n",
    "\n",
    "acc_train_decision_loop_list=[]\n",
    "acc_test_decision_loop_list=[]\n",
    "\n",
    "X_test_loop_list=[]\n",
    "y_test_loop_list=[]\n",
    "X_train_loop_list=[]\n",
    "y_train_loop_list=[]\n",
    "\n",
    "for i in range(5,25,5):\n",
    "    X_train_loop, X_test_loop, y_train_loop, y_test_loop = train_test_split(X_loop, y_loop,test_size=i/100, random_state=19)\n",
    "    X_test_loop_list.append(X_test_loop)\n",
    "    y_test_loop_list.append(y_test_loop)\n",
    "    X_train_loop_list.append(X_train_loop)\n",
    "    y_train_loop_list.append(y_train_loop)\n",
    "    clf_loop = DecisionTreeClassifier(random_state=19,max_depth=4,max_leaf_nodes =10,min_samples_leaf=10)\n",
    "    clf_loop.fit(X_train_loop,y_train_loop)\n",
    "    acc_train_decision_loop = clf_loop.score(X_train_loop, y_train_loop)\n",
    "    acc_train_decision_loop_list.append(acc_train_decision_loop)\n",
    "    acc_test_decision_loop = clf_loop.score(X_test_loop, y_test_loop)\n",
    "    acc_test_decision_loop_list.append(acc_test_decision_loop)\n",
    "    print(\"For test size = \",i,\" the accuracy on the training data is \",acc_train_decision_loop*100)\n",
    "    print(\"For test size = \",i,\" the accuracy on the test data is \",acc_test_decision_loop*100,'\\n')\n",
    "\n"
   ]
  },
  {
   "cell_type": "code",
   "execution_count": 154,
   "metadata": {},
   "outputs": [],
   "source": [
    "X_test_loop_1=X_test_loop_list[0]\n",
    "X_test_loop_2=X_test_loop_list[1]\n",
    "X_test_loop_3=X_test_loop_list[2]\n",
    "X_test_loop_4=X_test_loop_list[3]\n",
    "\n",
    "X_train_loop_1=X_train_loop_list[0]\n",
    "X_train_loop_2=X_train_loop_list[1]\n",
    "X_train_loop_3=X_train_loop_list[2]\n",
    "X_train_loop_4=X_train_loop_list[3]\n",
    "\n",
    "y_test_loop_1=y_test_loop_list[0]\n",
    "y_test_loop_2=y_test_loop_list[1]\n",
    "y_test_loop_3=y_test_loop_list[2]\n",
    "y_test_loop_4=y_test_loop_list[3]\n",
    "\n",
    "y_train_loop_1=y_train_loop_list[0]\n",
    "y_train_loop_2=y_train_loop_list[1]\n",
    "y_train_loop_3=y_train_loop_list[2]\n",
    "y_train_loop_4=y_train_loop_list[3]"
   ]
  },
  {
   "cell_type": "markdown",
   "metadata": {},
   "source": [
    "We will now calculate the <b>Confusion Matrix</b> for each train and test size and print the matrix below.\n",
    "\n",
    "A <b>Confusion Matrix</b> represents a table, which is used to briefly explain the performance of a model based on the test data. It also summarizes the prediction results for a model.\n",
    "\n",
    "Based on the values calculated before, we are calculating <b>Confusion Matrix</b> for different train and test size as mentioned before."
   ]
  },
  {
   "cell_type": "code",
   "execution_count": 155,
   "metadata": {},
   "outputs": [
    {
     "name": "stdout",
     "output_type": "stream",
     "text": [
      "[[33  2]\n",
      " [13  2]]\n"
     ]
    }
   ],
   "source": [
    "#confusionmatrix for test size 5%\n",
    "X_pred_1=clf_loop.predict(X_test_loop_1)\n",
    "#This is the confusion matrix for the decision tree classifier:\n",
    "from sklearn.metrics import confusion_matrix\n",
    "print(confusion_matrix(y_test_loop_1,X_pred_1))"
   ]
  },
  {
   "cell_type": "code",
   "execution_count": 156,
   "metadata": {},
   "outputs": [
    {
     "name": "stdout",
     "output_type": "stream",
     "text": [
      "[[66  4]\n",
      " [27  3]]\n"
     ]
    }
   ],
   "source": [
    "#confusionmatrix for test size 10%\n",
    "X_pred_2=clf_loop.predict(X_test_loop_2)\n",
    "#This is the confusion matrix for the decision tree classifier:\n",
    "from sklearn.metrics import confusion_matrix\n",
    "print(confusion_matrix(y_test_loop_2,X_pred_2))"
   ]
  },
  {
   "cell_type": "code",
   "execution_count": 157,
   "metadata": {},
   "outputs": [
    {
     "name": "stdout",
     "output_type": "stream",
     "text": [
      "[[108   5]\n",
      " [ 31   6]]\n"
     ]
    }
   ],
   "source": [
    "#confusionmatrix for test size 15%\n",
    "X_pred_3=clf_loop.predict(X_test_loop_3)\n",
    "#This is the confusion matrix for the decision tree classifier:\n",
    "from sklearn.metrics import confusion_matrix\n",
    "print(confusion_matrix(y_test_loop_3,X_pred_3))"
   ]
  },
  {
   "cell_type": "code",
   "execution_count": 158,
   "metadata": {},
   "outputs": [
    {
     "name": "stdout",
     "output_type": "stream",
     "text": [
      "[[144   6]\n",
      " [ 42   8]]\n"
     ]
    }
   ],
   "source": [
    "#confusionmatrix for test size 20%\n",
    "X_pred_4=clf_loop.predict(X_test_loop_4)\n",
    "#This is the confusion matrix for the decision tree classifier:\n",
    "from sklearn.metrics import confusion_matrix\n",
    "print(confusion_matrix(y_test_loop_4,X_pred_4))"
   ]
  },
  {
   "cell_type": "markdown",
   "metadata": {},
   "source": [
    "Now, we will calculate the <b>AUC</b> for <b>Decision Tree</b> of different train and test sizes.\n",
    "\n",
    "Here <b>AUC</b> is known as <b> Area Under the Curve</b>. <b>AUC</b> is used to measure the performance. It describes, how well the model has performed and how good it holds as the test size increases.\n",
    "\n",
    "Based on the below calculations, we can see that as the test size increases, the <b>AUC</b> increases. This shows that our model is improved and good at prediction. <b>AUC</b> is most commonly used for diagnostic purposes. It tells us how well the model is at classifying.\n",
    "\n",
    "The highest accuracy achieved is for test size 20% with an AUC of <b>69%</b>."
   ]
  },
  {
   "cell_type": "code",
   "execution_count": 159,
   "metadata": {},
   "outputs": [
    {
     "name": "stdout",
     "output_type": "stream",
     "text": [
      "Decision tree Area Under the Curve = 0.5961904761904762\n"
     ]
    }
   ],
   "source": [
    "#Calculation the Area Under the Curve for the decision tree for test size 5%\n",
    "from sklearn.metrics import roc_auc_score\n",
    "dt_auc_1= roc_auc_score(y_test_loop_1,clf_loop.predict_proba(X_test_loop_1)[:,1])\n",
    "print(\"Decision tree Area Under the Curve = \"+str(dt_auc_1))"
   ]
  },
  {
   "cell_type": "code",
   "execution_count": 160,
   "metadata": {},
   "outputs": [
    {
     "name": "stdout",
     "output_type": "stream",
     "text": [
      "Decision tree Area Under the Curve = 0.6261904761904762\n"
     ]
    }
   ],
   "source": [
    "#Calculation the Area Under the Curve for the decision tree for test size 10%\n",
    "from sklearn.metrics import roc_auc_score\n",
    "dt_auc_2= roc_auc_score(y_test_loop_2,clf_loop.predict_proba(X_test_loop_2)[:,1])\n",
    "print(\"Decision tree Area Under the Curve = \"+str(dt_auc_2))"
   ]
  },
  {
   "cell_type": "code",
   "execution_count": 161,
   "metadata": {},
   "outputs": [
    {
     "name": "stdout",
     "output_type": "stream",
     "text": [
      "Decision tree Area Under the Curve = 0.6553456110978235\n"
     ]
    }
   ],
   "source": [
    "#Calculation the Area Under the Curve for the decision tree for test size 15%\n",
    "from sklearn.metrics import roc_auc_score\n",
    "dt_auc_3= roc_auc_score(y_test_loop_3,clf_loop.predict_proba(X_test_loop_3)[:,1])\n",
    "print(\"Decision tree Area Under the Curve = \"+str(dt_auc_3))"
   ]
  },
  {
   "cell_type": "code",
   "execution_count": 162,
   "metadata": {},
   "outputs": [
    {
     "name": "stdout",
     "output_type": "stream",
     "text": [
      "Decision tree Area Under the Curve = 0.6923999999999999\n"
     ]
    }
   ],
   "source": [
    "#Calculation the Area Under the Curve for the decision tree for test size 20%\n",
    "from sklearn.metrics import roc_auc_score\n",
    "dt_auc_4= roc_auc_score(y_test_loop_4,clf_loop.predict_proba(X_test_loop_4)[:,1])\n",
    "print(\"Decision tree Area Under the Curve = \"+str(dt_auc_4))"
   ]
  },
  {
   "cell_type": "markdown",
   "metadata": {},
   "source": [
    "<b>Classification Report</b> specifies the metrics used for classifying the model. It measures the prediction quality based on the model. \n",
    "Below, we have calculated the <b>Classification Report</b> for each test size from <b>5%</b> to <b>10%</b>.\n",
    "\n",
    "It is mainly used for representation of <b> Classification Metrics</b> and measure the <b>Performance</b> of the model."
   ]
  },
  {
   "cell_type": "code",
   "execution_count": 163,
   "metadata": {
    "scrolled": true
   },
   "outputs": [
    {
     "name": "stdout",
     "output_type": "stream",
     "text": [
      "              precision    recall  f1-score   support\n",
      "\n",
      "           0       0.72      0.94      0.81        35\n",
      "           1       0.50      0.13      0.21        15\n",
      "\n",
      "    accuracy                           0.70        50\n",
      "   macro avg       0.61      0.54      0.51        50\n",
      "weighted avg       0.65      0.70      0.63        50\n",
      "\n"
     ]
    }
   ],
   "source": [
    "from sklearn.metrics import classification_report \n",
    "#The classification report for test size 5%:\n",
    "print(classification_report(y_test_loop_1,X_pred_1))"
   ]
  },
  {
   "cell_type": "code",
   "execution_count": 164,
   "metadata": {},
   "outputs": [
    {
     "name": "stdout",
     "output_type": "stream",
     "text": [
      "              precision    recall  f1-score   support\n",
      "\n",
      "           0       0.71      0.94      0.81        70\n",
      "           1       0.43      0.10      0.16        30\n",
      "\n",
      "    accuracy                           0.69       100\n",
      "   macro avg       0.57      0.52      0.49       100\n",
      "weighted avg       0.63      0.69      0.62       100\n",
      "\n"
     ]
    }
   ],
   "source": [
    "from sklearn.metrics import classification_report \n",
    "#The classification report for test size 10%:\n",
    "print(classification_report(y_test_loop_2,X_pred_2))"
   ]
  },
  {
   "cell_type": "code",
   "execution_count": 165,
   "metadata": {},
   "outputs": [
    {
     "name": "stdout",
     "output_type": "stream",
     "text": [
      "              precision    recall  f1-score   support\n",
      "\n",
      "           0       0.78      0.96      0.86       113\n",
      "           1       0.55      0.16      0.25        37\n",
      "\n",
      "    accuracy                           0.76       150\n",
      "   macro avg       0.66      0.56      0.55       150\n",
      "weighted avg       0.72      0.76      0.71       150\n",
      "\n"
     ]
    }
   ],
   "source": [
    "from sklearn.metrics import classification_report \n",
    "#The classification report for test size 15%:\n",
    "print(classification_report(y_test_loop_3,X_pred_3))"
   ]
  },
  {
   "cell_type": "code",
   "execution_count": 166,
   "metadata": {},
   "outputs": [
    {
     "name": "stdout",
     "output_type": "stream",
     "text": [
      "              precision    recall  f1-score   support\n",
      "\n",
      "           0       0.77      0.96      0.86       150\n",
      "           1       0.57      0.16      0.25        50\n",
      "\n",
      "    accuracy                           0.76       200\n",
      "   macro avg       0.67      0.56      0.55       200\n",
      "weighted avg       0.72      0.76      0.71       200\n",
      "\n"
     ]
    }
   ],
   "source": [
    "from sklearn.metrics import classification_report \n",
    "#The classification report for test size 20%:\n",
    "print(classification_report(y_test_loop_4,X_pred_4))"
   ]
  },
  {
   "cell_type": "markdown",
   "metadata": {},
   "source": [
    "Now, we will plot the <b>ROC Curve</b> for the <b>Decision Tree</b> for different test size. Based on the curve we can see the <b>true</b> and <b>false</b> positive rates.\n",
    "\n",
    "<b>ROC</b> is known as <b>Receiver Operating Characteristic Curve</b> \n",
    "\n",
    "For this we will be importing the <b>roc_curve</b> package from <b>sklearn</b> and using the <b>roc_curve()</b> function, the curve can be plotted.\n",
    "\n",
    "The graph here shows us the performance of our classification model at different levels of test size.\n",
    "\n",
    "As the curve becomes closer and it follows the top border of the space, we can say that the test is more accurate. It describes is how good our model is capable of classifying. The higher the curve, the better our model is good at prediction.\n",
    "\n",
    "<b>ROC Curve</b> measures the performance of our model based on true and false positives."
   ]
  },
  {
   "cell_type": "code",
   "execution_count": 172,
   "metadata": {},
   "outputs": [
    {
     "data": {
      "image/png": "[encoded data removed]",
      "text/plain": [
       "<Figure size 1152x576 with 1 Axes>"
      ]
     },
     "metadata": {
      "needs_background": "light"
     },
     "output_type": "display_data"
    }
   ],
   "source": [
    "#Drawing the ROC curve for both the decision tree for test size 5%\n",
    "import matplotlib.pyplot as plt\n",
    "from sklearn.metrics import roc_curve\n",
    "import numpy as np\n",
    "fpr_dt_1, tpr_dt_1,_=roc_curve(y_test_loop_1,clf_loop.predict_proba(X_test_loop_1)[:,1])\n",
    "plt.plot(fpr_dt_1,tpr_dt_1,label=\"DT Curve\")\n",
    "plt.xlabel('False Positive Rate')\n",
    "plt.ylabel('True Positive Rate')\n",
    "plt.legend()\n",
    "plt.gcf().set_size_inches(16, 8)\n",
    "plt.show()"
   ]
  },
  {
   "cell_type": "code",
   "execution_count": 173,
   "metadata": {},
   "outputs": [
    {
     "data": {
      "image/png": "[encoded data removed]",
      "text/plain": [
       "<Figure size 1152x576 with 1 Axes>"
      ]
     },
     "metadata": {
      "needs_background": "light"
     },
     "output_type": "display_data"
    }
   ],
   "source": [
    "#Drawing the ROC curve for both the decision tree for test size 10%\n",
    "import matplotlib.pyplot as plt\n",
    "from sklearn.metrics import roc_curve\n",
    "import numpy as np\n",
    "fpr_dt_2, tpr_dt_2,_=roc_curve(y_test_loop_2,clf_loop.predict_proba(X_test_loop_2)[:,1])\n",
    "plt.plot(fpr_dt_2,tpr_dt_2,label=\"DT Curve\")\n",
    "plt.xlabel('False Positive Rate')\n",
    "plt.ylabel('True Positive Rate')\n",
    "plt.legend()\n",
    "plt.gcf().set_size_inches(16, 8)\n",
    "plt.show()"
   ]
  },
  {
   "cell_type": "code",
   "execution_count": 174,
   "metadata": {},
   "outputs": [
    {
     "data": {
      "image/png": "[encoded data removed]",
      "text/plain": [
       "<Figure size 1152x576 with 1 Axes>"
      ]
     },
     "metadata": {
      "needs_background": "light"
     },
     "output_type": "display_data"
    }
   ],
   "source": [
    "#Drawing the ROC curve for both the decision tree for test size 15%\n",
    "import matplotlib.pyplot as plt\n",
    "from sklearn.metrics import roc_curve\n",
    "import numpy as np\n",
    "fpr_dt_3, tpr_dt_3,_=roc_curve(y_test_loop_3,clf_loop.predict_proba(X_test_loop_3)[:,1])\n",
    "plt.plot(fpr_dt_3,tpr_dt_3,label=\"DT Curve\")\n",
    "plt.xlabel('False Positive Rate')\n",
    "plt.ylabel('True Positive Rate')\n",
    "plt.legend()\n",
    "plt.gcf().set_size_inches(16, 8)\n",
    "plt.show()"
   ]
  },
  {
   "cell_type": "code",
   "execution_count": 175,
   "metadata": {},
   "outputs": [
    {
     "data": {
      "image/png": "[encoded data removed]",
      "text/plain": [
       "<Figure size 1152x576 with 1 Axes>"
      ]
     },
     "metadata": {
      "needs_background": "light"
     },
     "output_type": "display_data"
    }
   ],
   "source": [
    "#Drawing the ROC curve for both the decision tree for test size 20%\n",
    "import matplotlib.pyplot as plt\n",
    "from sklearn.metrics import roc_curve\n",
    "import numpy as np\n",
    "fpr_dt_4, tpr_dt_4,_=roc_curve(y_test_loop_4,clf_loop.predict_proba(X_test_loop_4)[:,1])\n",
    "plt.plot(fpr_dt_4,tpr_dt_4,label=\"DT Curve\")\n",
    "plt.xlabel('False Positive Rate')\n",
    "plt.ylabel('True Positive Rate')\n",
    "plt.legend()\n",
    "plt.gcf().set_size_inches(16, 8)\n",
    "plt.show()"
   ]
  },
  {
   "cell_type": "markdown",
   "metadata": {},
   "source": [
    "4- Explain your results shown in step #3.\n",
    "\n"
   ]
  },
  {
   "cell_type": "markdown",
   "metadata": {},
   "source": [
    "<b>Based on the results from step 3,</b> as the test size increases, we see improvements in AUC values and ROC plots. \n",
    "\n",
    "\n",
    "Based on the above graphs, we can say that our model is good at classification. It is said that, as the curve increases, the better our model is at prediction.\n",
    "\n",
    "As for the splitting of train and test data, we took the best parameters and used that to split the data using for loop.\n",
    "\n",
    "Based on the values calculated, we can see that there is not that much difference in the train and test accuracies, as all different test size has similar train and test accuracies.\n",
    "\n",
    "Overall, our model is good at classifying based on the results acquired above."
   ]
  },
  {
   "cell_type": "markdown",
   "metadata": {},
   "source": [
    "5- Is it required to scale the data for the Decision Trees model, why?\n",
    "\n"
   ]
  },
  {
   "cell_type": "code",
   "execution_count": 171,
   "metadata": {},
   "outputs": [
    {
     "name": "stdout",
     "output_type": "stream",
     "text": [
      "For max_depth =  3 , max_leaf_nodes =  10 , min_samples_leaf 10 , accuracy on the training data is  77.25\n",
      "For max_depth =  3 , max_leaf_nodes =  10 , min_samples_leaf 10 , accuracy on the test data is  75.0 \n",
      "\n",
      "For max_depth =  3 , max_leaf_nodes =  10 , min_samples_leaf 15 , accuracy on the training data is  77.25\n",
      "For max_depth =  3 , max_leaf_nodes =  10 , min_samples_leaf 15 , accuracy on the test data is  75.0 \n",
      "\n",
      "For max_depth =  3 , max_leaf_nodes =  10 , min_samples_leaf 20 , accuracy on the training data is  77.25\n",
      "For max_depth =  3 , max_leaf_nodes =  10 , min_samples_leaf 20 , accuracy on the test data is  75.0 \n",
      "\n",
      "For max_depth =  3 , max_leaf_nodes =  15 , min_samples_leaf 10 , accuracy on the training data is  77.25\n",
      "For max_depth =  3 , max_leaf_nodes =  15 , min_samples_leaf 10 , accuracy on the test data is  75.0 \n",
      "\n",
      "For max_depth =  3 , max_leaf_nodes =  15 , min_samples_leaf 15 , accuracy on the training data is  77.25\n",
      "For max_depth =  3 , max_leaf_nodes =  15 , min_samples_leaf 15 , accuracy on the test data is  75.0 \n",
      "\n",
      "For max_depth =  3 , max_leaf_nodes =  15 , min_samples_leaf 20 , accuracy on the training data is  77.25\n",
      "For max_depth =  3 , max_leaf_nodes =  15 , min_samples_leaf 20 , accuracy on the test data is  75.0 \n",
      "\n",
      "For max_depth =  4 , max_leaf_nodes =  10 , min_samples_leaf 10 , accuracy on the training data is  78.5\n",
      "For max_depth =  4 , max_leaf_nodes =  10 , min_samples_leaf 10 , accuracy on the test data is  76.0 \n",
      "\n",
      "For max_depth =  4 , max_leaf_nodes =  10 , min_samples_leaf 15 , accuracy on the training data is  77.5\n",
      "For max_depth =  4 , max_leaf_nodes =  10 , min_samples_leaf 15 , accuracy on the test data is  75.0 \n",
      "\n",
      "For max_depth =  4 , max_leaf_nodes =  10 , min_samples_leaf 20 , accuracy on the training data is  77.5\n",
      "For max_depth =  4 , max_leaf_nodes =  10 , min_samples_leaf 20 , accuracy on the test data is  75.0 \n",
      "\n",
      "For max_depth =  4 , max_leaf_nodes =  15 , min_samples_leaf 10 , accuracy on the training data is  78.5\n",
      "For max_depth =  4 , max_leaf_nodes =  15 , min_samples_leaf 10 , accuracy on the test data is  76.0 \n",
      "\n",
      "For max_depth =  4 , max_leaf_nodes =  15 , min_samples_leaf 15 , accuracy on the training data is  77.5\n",
      "For max_depth =  4 , max_leaf_nodes =  15 , min_samples_leaf 15 , accuracy on the test data is  75.0 \n",
      "\n",
      "For max_depth =  4 , max_leaf_nodes =  15 , min_samples_leaf 20 , accuracy on the training data is  77.5\n",
      "For max_depth =  4 , max_leaf_nodes =  15 , min_samples_leaf 20 , accuracy on the test data is  75.0 \n",
      "\n"
     ]
    }
   ],
   "source": [
    "from sklearn.model_selection import train_test_split\n",
    "X_scaled=adult_scaled[[4]]\n",
    "y_scaled=adult_scaled[[14]]\n",
    "X_train_scaled, X_test_scaled, y_train_scaled, y_test_scaled = train_test_split(X_scaled, y_scaled,train_size=0.80,test_size=0.20, random_state=19)\n",
    "\n",
    "from sklearn.tree import DecisionTreeClassifier\n",
    "from sklearn import metrics\n",
    "\n",
    "for i in range(3,5,1):\n",
    "    for j in range(10,20,5):\n",
    "        for k in range(10,25,5):\n",
    "            clf_dec_scaled = DecisionTreeClassifier(random_state=19,max_depth=i,max_leaf_nodes =j,min_samples_leaf=k)\n",
    "            clf_dec_scaled.fit(X_train_scaled,y_train_scaled)\n",
    "            \n",
    "            clf_dec = DecisionTreeClassifier(random_state=19,max_depth=i,max_leaf_nodes =j,min_samples_leaf=k)\n",
    "            clf_dec.fit(X_train,y_train)\n",
    "            acc_train_decision = clf_dec.score(X_train, y_train)\n",
    "            acc_train_decision_list.append(acc_train_decision)\n",
    "            acc_test_decision = clf_dec.score(X_test, y_test)\n",
    "            acc_test_decision_list.append(acc_test_decision)\n",
    "            print(\"For max_depth = \",i,\", max_leaf_nodes = \",j,\", min_samples_leaf\",k,\", accuracy on the training data is \",acc_train_decision*100)\n",
    "            print(\"For max_depth = \",i,\", max_leaf_nodes = \",j,\", min_samples_leaf\",k,\", accuracy on the test data is \",acc_test_decision*100,'\\n')\n",
    "\n",
    "acc_train_decision_scaled = clf_dec_scaled.score(X_train_scaled, y_train_scaled) \n",
    "acc_test_decision_scaled = clf_dec_scaled.score(X_test_scaled, y_test_scaled)"
   ]
  },
  {
   "cell_type": "markdown",
   "metadata": {},
   "source": [
    "<b>A5 :</b> <b>Decision trees in general do not require feature scaling.</b>\n",
    "- Some models are independent of feature scaling. \n",
    "- For example, <b>tree based algorithms such as decision trees</b> are not affected. As we can see from above that, the accuracies of train and test data before and after scaling are same. \n",
    "- However it might be useful when comparing performance of different models. Decision trees are not sensitive to the variance in data.\n",
    "    "
   ]
  }
 ],
 "metadata": {
  "kernelspec": {
   "display_name": "Python 3",
   "language": "python",
   "name": "python3"
  },
  "language_info": {
   "codemirror_mode": {
    "name": "ipython",
    "version": 3
   },
   "file_extension": ".py",
   "mimetype": "text/x-python",
   "name": "python",
   "nbconvert_exporter": "python",
   "pygments_lexer": "ipython3",
   "version": "3.7.9"
  }
 },
 "nbformat": 4,
 "nbformat_minor": 4
}
